{
 "cells": [
  {
   "cell_type": "code",
   "execution_count": 3,
   "metadata": {
    "vscode": {
     "languageId": "r"
    }
   },
   "outputs": [
    {
     "name": "stdout",
     "output_type": "stream",
     "text": [
      "/home/darragh/New/DAN_CRISPR_Screen/HT\n"
     ]
    }
   ],
   "source": [
    "%cd /home/darragh/New/DAN_CRISPR_Screen/HT"
   ]
  },
  {
   "cell_type": "code",
   "execution_count": 4,
   "metadata": {
    "vscode": {
     "languageId": "r"
    }
   },
   "outputs": [
    {
     "name": "stdout",
     "output_type": "stream",
     "text": [
      "java -ea -Xmx6619m -Xms6619m -cp /usr/local/bin/current/ jgi.BBDuk in1=HT_DMSOrep1.fastq.gz out=HT_DMSOrep1.fastq.gz.1 ktrim=r literal=GTTTTAGAGCTAGAAATAGCAAGTTAAAATAAGG -k=11\n",
      "Executing jgi.BBDuk [in1=HT_DMSOrep1.fastq.gz, out=HT_DMSOrep1.fastq.gz.1, ktrim=r, literal=GTTTTAGAGCTAGAAATAGCAAGTTAAAATAAGG, k=11]\n",
      "Version 38.86\n",
      "\n",
      "Unspecified format for output HT_DMSOrep1.fastq.gz.1; defaulting to fastq.\n",
      "0.030 seconds.\n",
      "Initial:\n",
      "Memory: max=6941m, total=6941m, free=6920m, used=21m\n",
      "\n",
      "Added 24 kmers; time: \t0.004 seconds.\n",
      "Memory: max=6941m, total=6941m, free=6917m, used=24m\n",
      "\n",
      "Input is being processed as unpaired\n",
      "Started output streams:\t0.022 seconds.\n",
      "Processing time:   \t\t21.599 seconds.\n",
      "\n",
      "Input:                  \t36154004 reads \t\t2714739288 bases.\n",
      "KTrimmed:               \t36086075 reads (99.81%) \t1063392681 bases (39.17%)\n",
      "Total Removed:          \t23 reads (0.00%) \t1063392681 bases (39.17%)\n",
      "Result:                 \t36153981 reads (100.00%) \t1651346607 bases (60.83%)\n",
      "\n",
      "Time:                         \t21.629 seconds.\n",
      "Reads Processed:      36154k \t1671.56k reads/sec\n",
      "Bases Processed:       2714m \t125.51m bases/sec\n",
      "java -ea -Xmx6626m -Xms6626m -cp /usr/local/bin/current/ jgi.BBDuk in1=HT_DMSOrep1.fastq.gz.1 out=HT_DMSOrep1.fastq.gz.2 ktrim=l literal=ACGCAACTTGTGGAAAGGACGAAACACCG -k=11\n",
      "Executing jgi.BBDuk [in1=HT_DMSOrep1.fastq.gz.1, out=HT_DMSOrep1.fastq.gz.2, ktrim=l, literal=ACGCAACTTGTGGAAAGGACGAAACACCG, k=11]\n",
      "Version 38.86\n",
      "\n",
      "Unspecified format for output HT_DMSOrep1.fastq.gz.2; defaulting to fastq.\n",
      "0.035 seconds.\n",
      "Initial:\n",
      "Memory: max=6947m, total=6947m, free=6928m, used=19m\n",
      "\n",
      "Added 19 kmers; time: \t0.004 seconds.\n",
      "Memory: max=6947m, total=6947m, free=6923m, used=24m\n",
      "\n",
      "Input is being processed as unpaired\n",
      "Started output streams:\t0.007 seconds.\n",
      "Processing time:   \t\t15.714 seconds.\n",
      "\n",
      "Input:                  \t36153981 reads \t\t1651346607 bases.\n",
      "KTrimmed:               \t36104583 reads (99.86%) \t920709382 bases (55.76%)\n",
      "Total Removed:          \t28095 reads (0.08%) \t920709382 bases (55.76%)\n",
      "Result:                 \t36125886 reads (99.92%) \t730637225 bases (44.24%)\n",
      "\n",
      "Time:                         \t15.729 seconds.\n",
      "Reads Processed:      36153k \t2298.55k reads/sec\n",
      "Bases Processed:       1651m \t104.99m bases/sec\n",
      "java -ea -Xmx6625m -Xms6625m -cp /usr/local/bin/current/ jgi.BBDuk in1=HT_DMSOrep2.fastq.gz out=HT_DMSOrep2.fastq.gz.1 ktrim=r literal=GTTTTAGAGCTAGAAATAGCAAGTTAAAATAAGG -k=11\n",
      "Executing jgi.BBDuk [in1=HT_DMSOrep2.fastq.gz, out=HT_DMSOrep2.fastq.gz.1, ktrim=r, literal=GTTTTAGAGCTAGAAATAGCAAGTTAAAATAAGG, k=11]\n",
      "Version 38.86\n",
      "\n",
      "Unspecified format for output HT_DMSOrep2.fastq.gz.1; defaulting to fastq.\n",
      "0.028 seconds.\n",
      "Initial:\n",
      "Memory: max=6947m, total=6947m, free=6928m, used=19m\n",
      "\n",
      "Added 24 kmers; time: \t0.004 seconds.\n",
      "Memory: max=6947m, total=6947m, free=6925m, used=22m\n",
      "\n",
      "Input is being processed as unpaired\n",
      "Started output streams:\t0.020 seconds.\n",
      "Processing time:   \t\t20.629 seconds.\n",
      "\n",
      "Input:                  \t32733470 reads \t\t2458401221 bases.\n",
      "KTrimmed:               \t32676946 reads (99.83%) \t963848937 bases (39.21%)\n",
      "Total Removed:          \t17 reads (0.00%) \t963848937 bases (39.21%)\n",
      "Result:                 \t32733453 reads (100.00%) \t1494552284 bases (60.79%)\n",
      "\n",
      "Time:                         \t20.657 seconds.\n",
      "Reads Processed:      32733k \t1584.62k reads/sec\n",
      "Bases Processed:       2458m \t119.01m bases/sec\n",
      "java -ea -Xmx6656m -Xms6656m -cp /usr/local/bin/current/ jgi.BBDuk in1=HT_DMSOrep2.fastq.gz.1 out=HT_DMSOrep2.fastq.gz.2 ktrim=l literal=ACGCAACTTGTGGAAAGGACGAAACACCG -k=11\n",
      "Executing jgi.BBDuk [in1=HT_DMSOrep2.fastq.gz.1, out=HT_DMSOrep2.fastq.gz.2, ktrim=l, literal=ACGCAACTTGTGGAAAGGACGAAACACCG, k=11]\n",
      "Version 38.86\n",
      "\n",
      "Unspecified format for output HT_DMSOrep2.fastq.gz.2; defaulting to fastq.\n",
      "0.033 seconds.\n",
      "Initial:\n",
      "Memory: max=6979m, total=6979m, free=6960m, used=19m\n",
      "\n",
      "Added 19 kmers; time: \t0.004 seconds.\n",
      "Memory: max=6979m, total=6979m, free=6955m, used=24m\n",
      "\n",
      "Input is being processed as unpaired\n",
      "Started output streams:\t0.008 seconds.\n",
      "Processing time:   \t\t12.753 seconds.\n",
      "\n",
      "Input:                  \t32733453 reads \t\t1494552284 bases.\n",
      "KTrimmed:               \t32689810 reads (99.87%) \t833414129 bases (55.76%)\n",
      "Total Removed:          \t27994 reads (0.09%) \t833414129 bases (55.76%)\n",
      "Result:                 \t32705459 reads (99.91%) \t661138155 bases (44.24%)\n",
      "\n",
      "Time:                         \t12.767 seconds.\n",
      "Reads Processed:      32733k \t2563.84k reads/sec\n",
      "Bases Processed:       1494m \t117.06m bases/sec\n"
     ]
    }
   ],
   "source": [
    "#Trimming adapters from fastqs\n",
    "\n",
    "!ls *fastq.gz  |while read line ; do \\\n",
    "    bbduk.sh in1=$line out=\"$line\".1 ktrim=r literal=GTTTTAGAGCTAGAAATAGCAAGTTAAAATAAGG -k=11; \\\n",
    "        bbduk.sh in1=\"$line\".1 out=\"$line\".2 ktrim=l literal=ACGCAACTTGTGGAAAGGACGAAACACCG -k=11 ; done\n",
    "         "
   ]
  },
  {
   "cell_type": "code",
   "execution_count": 5,
   "metadata": {
    "vscode": {
     "languageId": "r"
    }
   },
   "outputs": [
    {
     "name": "stdout",
     "output_type": "stream",
     "text": [
      "/bin/bash: seqkit: command not found\n",
      "/bin/bash: seqkit: command not found\n"
     ]
    }
   ],
   "source": [
    "!ls *.2  |while read line ; do \\\n",
    "    seqkit seq \"$line\" -m 20 -M 20 > clean/\"$line\" ; done"
   ]
  },
  {
   "cell_type": "code",
   "execution_count": 3,
   "metadata": {
    "vscode": {
     "languageId": "r"
    }
   },
   "outputs": [
    {
     "data": {
      "text/plain": [
       "[]"
      ]
     },
     "execution_count": 3,
     "metadata": {},
     "output_type": "execute_result"
    }
   ],
   "source": [
    "!!ls *fastq.gz  |while read line ; do rm \"$line\".1 \"$line\".2 ;done"
   ]
  },
  {
   "cell_type": "code",
   "execution_count": null,
   "metadata": {
    "vscode": {
     "languageId": "r"
    }
   },
   "outputs": [],
   "source": [
    "!seqkit stats *fastq.gz -j 48 >raw.stats\n",
    "!seqkit stats clean/* -j 48 >trim.stats"
   ]
  },
  {
   "cell_type": "code",
   "execution_count": null,
   "metadata": {
    "vscode": {
     "languageId": "r"
    }
   },
   "outputs": [],
   "source": [
    "!rm *fastq.gz"
   ]
  },
  {
   "cell_type": "code",
   "execution_count": null,
   "metadata": {
    "vscode": {
     "languageId": "r"
    }
   },
   "outputs": [],
   "source": [
    "%cd /home/darragh/New/DAN_CRISPR_Screen/clean\n",
    "!rename 's/.fastq.gz/.fastq/g' $(find . -type f)"
   ]
  },
  {
   "cell_type": "code",
   "execution_count": 8,
   "metadata": {
    "vscode": {
     "languageId": "r"
    }
   },
   "outputs": [
    {
     "name": "stdout",
     "output_type": "stream",
     "text": [
      "darragh@134.226.152.59's password: \n",
      "rsync error: received SIGINT, SIGTERM, or SIGHUP (code 20) at rsync.c(644) [Receiver=3.1.3]\n"
     ]
    }
   ],
   "source": [
    "! rsync 134.226.152.59:/volume1/craig/daire/DaireScreen2/brunelloLibraryRef.csv .\n",
    "! rsync 134.226.152.59:/volume1/craig/daire/DaireScreen2/nonTargettingControlIds.txt ."
   ]
  },
  {
   "cell_type": "code",
   "execution_count": 9,
   "metadata": {
    "vscode": {
     "languageId": "r"
    }
   },
   "outputs": [],
   "source": [
    "! mkdir mageckResults"
   ]
  },
  {
   "cell_type": "code",
   "execution_count": null,
   "metadata": {
    "vscode": {
     "languageId": "r"
    }
   },
   "outputs": [],
   "source": [
    "! cat WSU-DMSOrep1_S3_L001_R1_001.fastq WSU-DMSOrep1_S3_L002_R1_001.fastq WSU-DMSOrep1_S3_L003_R1_001.fastq WSU-DMSOrep1_S3_L004_R1_001.fastq > DMSO_R1.fastq\n",
    "! cat WSU-DMSOrep2_S19_L001_R1_001.fastq WSU-DMSOrep2_S19_L002_R1_001.fastq WSU-DMSOrep2_S19_L003_R1_001.fastq WSU-DMSOrep2_S19_L004_R1_001.fastq > DMSO_R2.fastq"
   ]
  },
  {
   "cell_type": "code",
   "execution_count": 1,
   "metadata": {
    "vscode": {
     "languageId": "r"
    }
   },
   "outputs": [
    {
     "name": "stdout",
     "output_type": "stream",
     "text": [
      "/home/darragh/New/DAN_CRISPR_Screen/boxplots\n"
     ]
    }
   ],
   "source": [
    "%cd /home/darragh/New/DAN_CRISPR_Screen/boxplots"
   ]
  },
  {
   "cell_type": "code",
   "execution_count": 1,
   "metadata": {
    "vscode": {
     "languageId": "r"
    }
   },
   "outputs": [
    {
     "name": "stdout",
     "output_type": "stream",
     "text": [
      "/bin/bash: mageck: command not found\n"
     ]
    }
   ],
   "source": [
    "!mageck count -l /home/darragh/New/DAN_CRISPR_Screen/brunelloLibraryRef.csv  -n DMSOvsPlasmid_mageckCounts --sample-label DMSO_1,DMSO_2,Plasmid_1,Plasmid_2 --fastq ~/New/DAN_CRISPR_Screen/craig_clean/WSU_DMSOrep1.fastq.gz ~/New/DAN_CRISPR_Screen/craig_clean/WSU_DMSOrep2.fastq.gz ~/New/DAN_CRISPR_Screen/clean/Gerry_Brunello_pDNA_R1.fastq ~/New/DAN_CRISPR_Screen/clean/Gerry_Brunello_pDNA_R2.fastq --trim-5 0 --control-sgrna /home/darragh/New/DAN_CRISPR_Screen/nonTargettingControlIds.txt"
   ]
  },
  {
   "cell_type": "code",
   "execution_count": null,
   "metadata": {
    "vscode": {
     "languageId": "r"
    }
   },
   "outputs": [],
   "source": [
    "!mageck count -l /home/darragh/New/DAN_CRISPR_Screen/brunelloLibraryRef.csv  -n DMSOvsTAZ_mageckCounts --sample-label DMSO_1,DMSO_2,TAZ_1,TAZ_2 --fastq ~/New/DAN_CRISPR_Screen/craig_clean/WSU_DMSOrep1.fastq.gz ~/New/DAN_CRISPR_Screen/craig_clean/WSU_DMSOrep2.fastq.gz ~/New/DAN_CRISPR_Screen/craig_clean/WSU_Tazrep1.fastq.gz ~/New/DAN_CRISPR_Screen/craig_clean/WSU_Tazrep1.fastq.gz --trim-5 0 --control-sgrna /home/darragh/New/DAN_CRISPR_Screen/nonTargettingControlIds.txt"
   ]
  },
  {
   "cell_type": "code",
   "execution_count": 88,
   "metadata": {
    "vscode": {
     "languageId": "r"
    }
   },
   "outputs": [],
   "source": [
    "library(tidyr)\n",
    "library(dplyr)\n",
    "library(ggplot2)\n",
    "\n",
    "options(repr.plot.width=41, repr.plot.height=9)\n",
    "\n",
    "WT_DMSO_Plasmid_counts = read.table(\"/home/darragh/New/DAN_CRISPR_Screen/boxplots/WSU_DMSOvsPlasmid_mageckCounts.count_normalized.txt\", sep = \"\\t\", header=T)\n",
    "WSU_DMSO_Plasmid = WT_DMSO_Plasmid_counts[(WT_DMSO_Plasmid_counts$Gene == \"AEBP2\") | (WT_DMSO_Plasmid_counts$Gene == \"NSD1\") | (WT_DMSO_Plasmid_counts$Gene == \"WHSC1\") , ]\n",
    "\n",
    "\n",
    "\n",
    "WSU_DMSO_Plasmid <- WSU_DMSO_Plasmid %>%\n",
    "  pivot_longer(cols = c(DMSO_1, DMSO_2, Plasmid_1, Plasmid_2),\n",
    "               names_to = \"Label\",\n",
    "               values_to = \"Value\") %>%\n",
    "  select(sgRNA, Gene, Value, Label)\n",
    "\n",
    "\n",
    "\n",
    "WSU_DMSO_Plasmid <- WSU_DMSO_Plasmid %>%\n",
    "  mutate(Label = ifelse(Label == \"DMSO_1\", \"DMSO\", Label))\n",
    "\n",
    "WSU_DMSO_Plasmid <- WSU_DMSO_Plasmid %>%\n",
    "  mutate(Label = ifelse(Label == \"DMSO_2\", \"DMSO\", Label))\n",
    "\n",
    "WSU_DMSO_Plasmid <- WSU_DMSO_Plasmid %>%\n",
    "  mutate(Label = ifelse(Label == \"Plasmid_1\", \"Plasmid\", Label))\n",
    "\n",
    "WSU_DMSO_Plasmid <- WSU_DMSO_Plasmid %>%\n",
    "  mutate(Label = ifelse(Label == \"Plasmid_2\", \"Plasmid\", Label))\n"
   ]
  },
  {
   "cell_type": "code",
   "execution_count": 89,
   "metadata": {
    "vscode": {
     "languageId": "r"
    }
   },
   "outputs": [
    {
     "name": "stdout",
     "output_type": "stream",
     "text": [
      "\"x\"\n",
      "\"1\" \"\"\n"
     ]
    },
    {
     "data": {
      "text/html": [
       "<table class=\"dataframe\">\n",
       "<caption>A tibble: 6 × 4</caption>\n",
       "<thead>\n",
       "\t<tr><th scope=col>sgRNA</th><th scope=col>Gene</th><th scope=col>Value</th><th scope=col>Label</th></tr>\n",
       "\t<tr><th scope=col>&lt;chr&gt;</th><th scope=col>&lt;chr&gt;</th><th scope=col>&lt;dbl&gt;</th><th scope=col>&lt;fct&gt;</th></tr>\n",
       "</thead>\n",
       "<tbody>\n",
       "\t<tr><td>sgNSD1-177211164</td><td>NSD1 </td><td>256.6590</td><td>DMSO   </td></tr>\n",
       "\t<tr><td>sgNSD1-177211164</td><td>NSD1 </td><td>154.4082</td><td>DMSO   </td></tr>\n",
       "\t<tr><td>sgNSD1-177211164</td><td>NSD1 </td><td>277.4520</td><td>Plasmid</td></tr>\n",
       "\t<tr><td>sgNSD1-177211164</td><td>NSD1 </td><td>244.3174</td><td>Plasmid</td></tr>\n",
       "\t<tr><td>sgWHSC1-1953388 </td><td>WHSC1</td><td>994.8990</td><td>DMSO   </td></tr>\n",
       "\t<tr><td>sgWHSC1-1953388 </td><td>WHSC1</td><td>544.2159</td><td>DMSO   </td></tr>\n",
       "</tbody>\n",
       "</table>\n"
      ],
      "text/latex": [
       "A tibble: 6 × 4\n",
       "\\begin{tabular}{llll}\n",
       " sgRNA & Gene & Value & Label\\\\\n",
       " <chr> & <chr> & <dbl> & <fct>\\\\\n",
       "\\hline\n",
       "\t sgNSD1-177211164 & NSD1  & 256.6590 & DMSO   \\\\\n",
       "\t sgNSD1-177211164 & NSD1  & 154.4082 & DMSO   \\\\\n",
       "\t sgNSD1-177211164 & NSD1  & 277.4520 & Plasmid\\\\\n",
       "\t sgNSD1-177211164 & NSD1  & 244.3174 & Plasmid\\\\\n",
       "\t sgWHSC1-1953388  & WHSC1 & 994.8990 & DMSO   \\\\\n",
       "\t sgWHSC1-1953388  & WHSC1 & 544.2159 & DMSO   \\\\\n",
       "\\end{tabular}\n"
      ],
      "text/markdown": [
       "\n",
       "A tibble: 6 × 4\n",
       "\n",
       "| sgRNA &lt;chr&gt; | Gene &lt;chr&gt; | Value &lt;dbl&gt; | Label &lt;fct&gt; |\n",
       "|---|---|---|---|\n",
       "| sgNSD1-177211164 | NSD1  | 256.6590 | DMSO    |\n",
       "| sgNSD1-177211164 | NSD1  | 154.4082 | DMSO    |\n",
       "| sgNSD1-177211164 | NSD1  | 277.4520 | Plasmid |\n",
       "| sgNSD1-177211164 | NSD1  | 244.3174 | Plasmid |\n",
       "| sgWHSC1-1953388  | WHSC1 | 994.8990 | DMSO    |\n",
       "| sgWHSC1-1953388  | WHSC1 | 544.2159 | DMSO    |\n",
       "\n"
      ],
      "text/plain": [
       "  sgRNA            Gene  Value    Label  \n",
       "1 sgNSD1-177211164 NSD1  256.6590 DMSO   \n",
       "2 sgNSD1-177211164 NSD1  154.4082 DMSO   \n",
       "3 sgNSD1-177211164 NSD1  277.4520 Plasmid\n",
       "4 sgNSD1-177211164 NSD1  244.3174 Plasmid\n",
       "5 sgWHSC1-1953388  WHSC1 994.8990 DMSO   \n",
       "6 sgWHSC1-1953388  WHSC1 544.2159 DMSO   "
      ]
     },
     "metadata": {},
     "output_type": "display_data"
    },
    {
     "data": {
      "image/png": "[encoded data removed]",
      "text/plain": [
       "plot without title"
      ]
     },
     "metadata": {
      "image/png": {
       "height": 420,
       "width": 780
      }
     },
     "output_type": "display_data"
    }
   ],
   "source": [
    "library(tidyr)\n",
    "library(dplyr)\n",
    "library(ggplot2)\n",
    "\n",
    "options(repr.plot.width=13, repr.plot.height=7)\n",
    "\n",
    "WT_DMSO_Plasmid_counts = read.table(\"/home/darragh/New/DAN_CRISPR_Screen/boxplots/WSU_DMSOvsTAZ_mageckCounts.count_normalized.txt\", sep = \"\\t\", header=T)\n",
    "WSU_DMSO_TAZ = WT_DMSO_Plasmid_counts[(WT_DMSO_Plasmid_counts$Gene == \"AEBP2\") | (WT_DMSO_Plasmid_counts$Gene == \"NSD1\") | (WT_DMSO_Plasmid_counts$Gene == \"WHSC1\")  , ]\n",
    "\n",
    "\n",
    "WSU_DMSO_TAZ <- WSU_DMSO_TAZ %>%\n",
    "  pivot_longer(cols = c(DMSO_1, DMSO_2, TAZ_1, TAZ_2),\n",
    "               names_to = \"Label\",\n",
    "               values_to = \"Value\") %>%\n",
    "  select(sgRNA, Gene, Value, Label)\n",
    "\n",
    "\n",
    "\n",
    "WSU_DMSO_TAZ <- WSU_DMSO_TAZ %>%\n",
    "  mutate(Label = ifelse(Label == \"DMSO_1\", \"DMSO\", Label))\n",
    "\n",
    "WSU_DMSO_TAZ <- WSU_DMSO_TAZ %>%\n",
    "  mutate(Label = ifelse(Label == \"DMSO_2\", \"DMSO\", Label))\n",
    "\n",
    "WSU_DMSO_TAZ <- WSU_DMSO_TAZ %>%\n",
    "  mutate(Label = ifelse(Label == \"TAZ_1\", \"TAZ\", Label))\n",
    "\n",
    "WSU_DMSO_TAZ <- WSU_DMSO_TAZ %>%\n",
    "  mutate(Label = ifelse(Label == \"TAZ_2\", \"TAZ\", Label))\n",
    "\n",
    "\n",
    "WSU_DMSO_Plasmid_TAZ = rbind(WSU_DMSO_Plasmid, WSU_DMSO_TAZ )\n",
    "\n",
    "\n",
    "# EZH2 <- EZH2 %>%\n",
    "#   mutate(Label = ifelse(Label == \"TAZ_1\", \"TAZ\", Label))\n",
    "\n",
    "# EZH2 <- EZH2 %>%\n",
    "#   mutate(Label = ifelse(Label == \"TAZ_2\", \"TAZ\", Label))\n",
    "\n",
    "WSU_DMSO_Plasmid_TAZ$Label <- factor(WSU_DMSO_Plasmid_TAZ$Label, levels = c(\"Plasmid\", \"DMSO\", \"TAZ\"))\n",
    "\n",
    "WSU_DMSO_Plasmid_TAZ$Value = WSU_DMSO_Plasmid_TAZ$Value+1\n",
    "\n",
    "\n",
    "ggplot(WSU_DMSO_Plasmid_TAZ, aes(x = Gene, y = log10(Value), fill = Label)) +\n",
    "    geom_boxplot() +\n",
    "    geom_jitter(position = position_dodge(width = 0.75), size = 1.5\n",
    "    ) +\n",
    "  theme_classic() + \n",
    "  ylab(\"mean norm log10(read counts +1)\") +\n",
    "  xlab(\"\") +\n",
    "  ggtitle(\"WSU\") +\n",
    "  theme(axis.text = element_text(size = 20), axis.title = element_text(size = 20), panel.grid.major = element_blank(),\n",
    "  panel.grid.minor = element_blank() ) +\n",
    "  scale_fill_manual(values = c(\"#D3D3D3\", \"violet\", \"skyblue\")) \n",
    "  ggsave(\"/home/darragh/New/WSU_Dan_CRISPR_screen.pdf\", width=13, height=7)\n",
    "\n",
    "\n",
    "write.table(\"\")\n",
    "head(WSU_DMSO_Plasmid_TAZ)"
   ]
  },
  {
   "cell_type": "code",
   "execution_count": 90,
   "metadata": {
    "vscode": {
     "languageId": "r"
    }
   },
   "outputs": [
    {
     "name": "stdout",
     "output_type": "stream",
     "text": [
      "Gene: NSD1 \n",
      "DMSO & TAZ p-value: 0.001027706 \n",
      "DMSO & Plasmid p-value: 0.3517726 \n",
      "Plasmid & DMSO p-value: 0.001928587 \n",
      "Gene: WHSC1 \n",
      "DMSO & TAZ p-value: 0.08802462 \n",
      "DMSO & Plasmid p-value: 0.6307839 \n",
      "Plasmid & DMSO p-value: 0.09449594 \n",
      "Gene: AEBP2 \n",
      "DMSO & TAZ p-value: 0.1052214 \n",
      "DMSO & Plasmid p-value: 0.001315361 \n",
      "Plasmid & DMSO p-value: 0.0001089389 \n"
     ]
    }
   ],
   "source": [
    "\n",
    "\n",
    "library(dplyr)\n",
    "\n",
    "# Perform Wilcoxon rank sum tests for each unique Gene\n",
    "unique_genes <- unique(WSU_DMSO_Plasmid_TAZ$Gene)\n",
    "\n",
    "for (gene in unique_genes) {\n",
    "  cat(\"Gene:\", gene, \"\\n\")\n",
    "  \n",
    "  # Subset data for the current gene\n",
    "  gene_data <- WSU_DMSO_Plasmid_TAZ %>% filter(Gene == gene)\n",
    "  \n",
    "  # Perform Wilcoxon rank sum tests\n",
    "  wilcox_dmsotaz <- t.test(Value ~ Label, data = gene_data %>%\n",
    "                                  filter(Label %in% c(\"DMSO\", \"TAZ\")))\n",
    "  wilcox_dmsoplas <- t.test(Value ~ Label, data = gene_data %>%\n",
    "                                   filter(Label %in% c(\"DMSO\", \"Plasmid\")))\n",
    "  wilcox_plasmdms <- t.test(Value ~ Label, data = gene_data %>%\n",
    "                                   filter(Label %in% c(\"Plasmid\", \"TAZ\")))\n",
    "  \n",
    "  # Print p-values\n",
    "  cat(\"DMSO & TAZ p-value:\", wilcox_dmsotaz$p.value, \"\\n\")\n",
    "  cat(\"DMSO & Plasmid p-value:\", wilcox_dmsoplas$p.value, \"\\n\")\n",
    "  cat(\"Plasmid & DMSO p-value:\", wilcox_plasmdms$p.value, \"\\n\")\n",
    "\n",
    "}\n",
    "\n"
   ]
  },
  {
   "cell_type": "code",
   "execution_count": 91,
   "metadata": {
    "vscode": {
     "languageId": "r"
    }
   },
   "outputs": [],
   "source": [
    "library(tidyr)\n",
    "library(dplyr)\n",
    "library(ggplot2)\n",
    "\n",
    "options(repr.plot.width=41, repr.plot.height=9)\n",
    "\n",
    "WT_DMSO_Plasmid_counts = read.table(\"/home/darragh/New/DAN_CRISPR_Screen/boxplots/HT/DMSOvsPlasmid_mageckCounts.count_normalized.txt\", sep = \"\\t\", header=T)\n",
    "WSU_DMSO_Plasmid = WT_DMSO_Plasmid_counts[(WT_DMSO_Plasmid_counts$Gene == \"AEBP2\") | (WT_DMSO_Plasmid_counts$Gene == \"NSD1\") | (WT_DMSO_Plasmid_counts$Gene == \"WHSC1\") , ]\n",
    "\n",
    "\n",
    "\n",
    "WSU_DMSO_Plasmid <- WSU_DMSO_Plasmid %>%\n",
    "  pivot_longer(cols = c(DMSO_1, DMSO_2, Plasmid_1, Plasmid_2),\n",
    "               names_to = \"Label\",\n",
    "               values_to = \"Value\") %>%\n",
    "  select(sgRNA, Gene, Value, Label)\n",
    "\n",
    "\n",
    "\n",
    "WSU_DMSO_Plasmid <- WSU_DMSO_Plasmid %>%\n",
    "  mutate(Label = ifelse(Label == \"DMSO_1\", \"DMSO\", Label))\n",
    "\n",
    "WSU_DMSO_Plasmid <- WSU_DMSO_Plasmid %>%\n",
    "  mutate(Label = ifelse(Label == \"DMSO_2\", \"DMSO\", Label))\n",
    "\n",
    "WSU_DMSO_Plasmid <- WSU_DMSO_Plasmid %>%\n",
    "  mutate(Label = ifelse(Label == \"Plasmid_1\", \"Plasmid\", Label))\n",
    "\n",
    "WSU_DMSO_Plasmid <- WSU_DMSO_Plasmid %>%\n",
    "  mutate(Label = ifelse(Label == \"Plasmid_2\", \"Plasmid\", Label))\n"
   ]
  },
  {
   "cell_type": "code",
   "execution_count": 95,
   "metadata": {
    "vscode": {
     "languageId": "r"
    }
   },
   "outputs": [
    {
     "data": {
      "text/html": [
       "<table class=\"dataframe\">\n",
       "<caption>A tibble: 6 × 4</caption>\n",
       "<thead>\n",
       "\t<tr><th scope=col>sgRNA</th><th scope=col>Gene</th><th scope=col>Value</th><th scope=col>Label</th></tr>\n",
       "\t<tr><th scope=col>&lt;chr&gt;</th><th scope=col>&lt;chr&gt;</th><th scope=col>&lt;dbl&gt;</th><th scope=col>&lt;fct&gt;</th></tr>\n",
       "</thead>\n",
       "<tbody>\n",
       "\t<tr><td>sgAEBP2-19473305</td><td>AEBP2</td><td>178.7861</td><td>DMSO   </td></tr>\n",
       "\t<tr><td>sgAEBP2-19473305</td><td>AEBP2</td><td>233.7208</td><td>DMSO   </td></tr>\n",
       "\t<tr><td>sgAEBP2-19473305</td><td>AEBP2</td><td>167.8003</td><td>Plasmid</td></tr>\n",
       "\t<tr><td>sgAEBP2-19473305</td><td>AEBP2</td><td>166.5224</td><td>Plasmid</td></tr>\n",
       "\t<tr><td>sgNSD1-177238503</td><td>NSD1 </td><td>324.4560</td><td>DMSO   </td></tr>\n",
       "\t<tr><td>sgNSD1-177238503</td><td>NSD1 </td><td>458.0009</td><td>DMSO   </td></tr>\n",
       "</tbody>\n",
       "</table>\n"
      ],
      "text/latex": [
       "A tibble: 6 × 4\n",
       "\\begin{tabular}{llll}\n",
       " sgRNA & Gene & Value & Label\\\\\n",
       " <chr> & <chr> & <dbl> & <fct>\\\\\n",
       "\\hline\n",
       "\t sgAEBP2-19473305 & AEBP2 & 178.7861 & DMSO   \\\\\n",
       "\t sgAEBP2-19473305 & AEBP2 & 233.7208 & DMSO   \\\\\n",
       "\t sgAEBP2-19473305 & AEBP2 & 167.8003 & Plasmid\\\\\n",
       "\t sgAEBP2-19473305 & AEBP2 & 166.5224 & Plasmid\\\\\n",
       "\t sgNSD1-177238503 & NSD1  & 324.4560 & DMSO   \\\\\n",
       "\t sgNSD1-177238503 & NSD1  & 458.0009 & DMSO   \\\\\n",
       "\\end{tabular}\n"
      ],
      "text/markdown": [
       "\n",
       "A tibble: 6 × 4\n",
       "\n",
       "| sgRNA &lt;chr&gt; | Gene &lt;chr&gt; | Value &lt;dbl&gt; | Label &lt;fct&gt; |\n",
       "|---|---|---|---|\n",
       "| sgAEBP2-19473305 | AEBP2 | 178.7861 | DMSO    |\n",
       "| sgAEBP2-19473305 | AEBP2 | 233.7208 | DMSO    |\n",
       "| sgAEBP2-19473305 | AEBP2 | 167.8003 | Plasmid |\n",
       "| sgAEBP2-19473305 | AEBP2 | 166.5224 | Plasmid |\n",
       "| sgNSD1-177238503 | NSD1  | 324.4560 | DMSO    |\n",
       "| sgNSD1-177238503 | NSD1  | 458.0009 | DMSO    |\n",
       "\n"
      ],
      "text/plain": [
       "  sgRNA            Gene  Value    Label  \n",
       "1 sgAEBP2-19473305 AEBP2 178.7861 DMSO   \n",
       "2 sgAEBP2-19473305 AEBP2 233.7208 DMSO   \n",
       "3 sgAEBP2-19473305 AEBP2 167.8003 Plasmid\n",
       "4 sgAEBP2-19473305 AEBP2 166.5224 Plasmid\n",
       "5 sgNSD1-177238503 NSD1  324.4560 DMSO   \n",
       "6 sgNSD1-177238503 NSD1  458.0009 DMSO   "
      ]
     },
     "metadata": {},
     "output_type": "display_data"
    },
    {
     "data": {
      "image/png": "[encoded data removed]",
      "text/plain": [
       "plot without title"
      ]
     },
     "metadata": {
      "image/png": {
       "height": 420,
       "width": 780
      }
     },
     "output_type": "display_data"
    }
   ],
   "source": [
    "library(tidyr)\n",
    "library(dplyr)\n",
    "library(ggplot2)\n",
    "\n",
    "options(repr.plot.width=13, repr.plot.height=7)\n",
    "\n",
    "WT_DMSO_Plasmid_counts = read.table(\"/home/darragh/New/DAN_CRISPR_Screen/boxplots/HT/DMSOvsTAZ_mageckCounts.count_normalized.txt\", sep = \"\\t\", header=T)\n",
    "WSU_DMSO_TAZ = WT_DMSO_Plasmid_counts[(WT_DMSO_Plasmid_counts$Gene == \"AEBP2\") | (WT_DMSO_Plasmid_counts$Gene == \"NSD1\") | (WT_DMSO_Plasmid_counts$Gene == \"WHSC1\")  , ]\n",
    "\n",
    "\n",
    "WSU_DMSO_TAZ <- WSU_DMSO_TAZ %>%\n",
    "  pivot_longer(cols = c(DMSO_1, DMSO_2, TAZ_1, TAZ_2),\n",
    "               names_to = \"Label\",\n",
    "               values_to = \"Value\") %>%\n",
    "  select(sgRNA, Gene, Value, Label)\n",
    "\n",
    "\n",
    "\n",
    "WSU_DMSO_TAZ <- WSU_DMSO_TAZ %>%\n",
    "  mutate(Label = ifelse(Label == \"DMSO_1\", \"DMSO\", Label))\n",
    "\n",
    "WSU_DMSO_TAZ <- WSU_DMSO_TAZ %>%\n",
    "  mutate(Label = ifelse(Label == \"DMSO_2\", \"DMSO\", Label))\n",
    "\n",
    "WSU_DMSO_TAZ <- WSU_DMSO_TAZ %>%\n",
    "  mutate(Label = ifelse(Label == \"TAZ_1\", \"TAZ\", Label))\n",
    "\n",
    "WSU_DMSO_TAZ <- WSU_DMSO_TAZ %>%\n",
    "  mutate(Label = ifelse(Label == \"TAZ_2\", \"TAZ\", Label))\n",
    "\n",
    "\n",
    "WSU_DMSO_Plasmid_TAZ = rbind(WSU_DMSO_Plasmid, WSU_DMSO_TAZ )\n",
    "\n",
    "\n",
    "# EZH2 <- EZH2 %>%\n",
    "#   mutate(Label = ifelse(Label == \"TAZ_1\", \"TAZ\", Label))\n",
    "\n",
    "# EZH2 <- EZH2 %>%\n",
    "#   mutate(Label = ifelse(Label == \"TAZ_2\", \"TAZ\", Label))\n",
    "\n",
    "WSU_DMSO_Plasmid_TAZ$Label <- factor(WSU_DMSO_Plasmid_TAZ$Label, levels = c(\"Plasmid\", \"DMSO\", \"TAZ\"))\n",
    "\n",
    "WSU_DMSO_Plasmid_TAZ$Value = WSU_DMSO_Plasmid_TAZ$Value+1\n",
    "\n",
    "\n",
    "ggplot(WSU_DMSO_Plasmid_TAZ, aes(x = Gene, y = log10(Value), fill = Label)) +\n",
    "    geom_boxplot() +\n",
    "    geom_jitter(position = position_dodge(width = 0.75), size = 1.5\n",
    "    ) +\n",
    "  theme_classic() + \n",
    "  ylab(\"mean norm log10(read counts +1)\") +\n",
    "  xlab(\"\") +\n",
    "  ggtitle(\"HT\") +\n",
    "  theme(axis.text = element_text(size = 20), axis.title = element_text(size = 20), panel.grid.major = element_blank(),\n",
    "  panel.grid.minor = element_blank() ) +\n",
    "  scale_fill_manual(values = c(\"#D3D3D3\", \"violet\", \"skyblue\")) \n",
    "  ggsave(\"/home/darragh/New/HT_Dan_CRISPR_screen.pdf\", width=13, height=7)\n",
    "\n",
    "\n",
    "head(WSU_DMSO_Plasmid_TAZ)"
   ]
  },
  {
   "cell_type": "code",
   "execution_count": 96,
   "metadata": {
    "vscode": {
     "languageId": "r"
    }
   },
   "outputs": [
    {
     "name": "stdout",
     "output_type": "stream",
     "text": [
      "Gene: AEBP2 \n",
      "DMSO & TAZ p-value: 0.6274536 \n",
      "DMSO & Plasmid p-value: 0.02088332 \n",
      "Plasmid & DMSO p-value: 0.03364172 \n",
      "Gene: NSD1 \n",
      "DMSO & TAZ p-value: 0.08529174 \n",
      "DMSO & Plasmid p-value: 0.007593254 \n",
      "Plasmid & DMSO p-value: 0.117104 \n",
      "Gene: WHSC1 \n",
      "DMSO & TAZ p-value: 0.5087106 \n",
      "DMSO & Plasmid p-value: 0.9056163 \n",
      "Plasmid & DMSO p-value: 0.4332693 \n"
     ]
    }
   ],
   "source": [
    "\n",
    "\n",
    "library(dplyr)\n",
    "\n",
    "# Perform Wilcoxon rank sum tests for each unique Gene\n",
    "unique_genes <- unique(WSU_DMSO_Plasmid_TAZ$Gene)\n",
    "\n",
    "for (gene in unique_genes) {\n",
    "  cat(\"Gene:\", gene, \"\\n\")\n",
    "  \n",
    "  # Subset data for the current gene\n",
    "  gene_data <- WSU_DMSO_Plasmid_TAZ %>% filter(Gene == gene)\n",
    "  \n",
    "  # Perform Wilcoxon rank sum tests\n",
    "  wilcox_dmsotaz <- t.test(Value ~ Label, data = gene_data %>%\n",
    "                                  filter(Label %in% c(\"DMSO\", \"TAZ\")))\n",
    "  wilcox_dmsoplas <- t.test(Value ~ Label, data = gene_data %>%\n",
    "                                   filter(Label %in% c(\"DMSO\", \"Plasmid\")))\n",
    "  wilcox_plasmdms <- t.test(Value ~ Label, data = gene_data %>%\n",
    "                                   filter(Label %in% c(\"Plasmid\", \"TAZ\")))\n",
    "  \n",
    "  # Print p-values\n",
    "  cat(\"DMSO & TAZ p-value:\", wilcox_dmsotaz$p.value, \"\\n\")\n",
    "  cat(\"DMSO & Plasmid p-value:\", wilcox_dmsoplas$p.value, \"\\n\")\n",
    "  cat(\"Plasmid & DMSO p-value:\", wilcox_plasmdms$p.value, \"\\n\")\n",
    "\n",
    "}\n",
    "\n"
   ]
  },
  {
   "cell_type": "code",
   "execution_count": null,
   "metadata": {
    "vscode": {
     "languageId": "r"
    }
   },
   "outputs": [],
   "source": [
    "!mageck mle -k mageckResults/PlasmidVsDMSO_mageckCounts.count.txt  -d designMatrix_1.txt  -n mageckResults/PlasmidVsDMSO_mle"
   ]
  },
  {
   "cell_type": "code",
   "execution_count": null,
   "metadata": {
    "vscode": {
     "languageId": "r"
    }
   },
   "outputs": [],
   "source": [
    "!mageck mle -k mageckResults/DMSOvsPlasmid_mageckCounts.count.txt  -d designMatrix_2.txt  -n mageckResults/DMSOVsPlasmid_mle"
   ]
  },
  {
   "cell_type": "markdown",
   "metadata": {},
   "source": [
    "# Make plots for illustrative examples"
   ]
  },
  {
   "cell_type": "code",
   "execution_count": null,
   "metadata": {
    "vscode": {
     "languageId": "r"
    }
   },
   "outputs": [],
   "source": [
    "!mageck count -l brunelloLibraryRef.csv  -n mageckResults/PlasmidvsDMSO_mageckCounts --sample-label DMSO_1,DMSO_2,Plasmid_1,Plasmid_2 --fastq clean/HT_DMSOrep1.fastq clean/HT_DMSOrep2.fastq clean/Gerry_Brunello_pDNA_R1.fastq clean/Gerry_Brunello_pDNA_R2.fastq --trim-5 0 --control-sgrna nonTargettingControlIds.txt"
   ]
  },
  {
   "cell_type": "code",
   "execution_count": null,
   "metadata": {
    "vscode": {
     "languageId": "r"
    }
   },
   "outputs": [],
   "source": [
    "!mageck count -l brunelloLibraryRef.csv  -n mageckResults/PlasmidvsDMSO_mageckCounts --sample-label DMSO_1,DMSO_2,Plasmid_1,Plasmid_2 --fastq clean/HT_DMSOrep1.fastq clean/HT_DMSOrep2.fastq clean/Gerry_Brunello_pDNA_R1.fastq clean/Gerry_Brunello_pDNA_R2.fastq --trim-5 0 --control-sgrna nonTargettingControlIds.txt"
   ]
  },
  {
   "cell_type": "code",
   "execution_count": null,
   "metadata": {
    "vscode": {
     "languageId": "r"
    }
   },
   "outputs": [],
   "source": [
    "!mageck mle -k mageckResults/PlasmidvsDMSO_mageckCounts.count.txt  -d designMatrix_2.txt  -n mageckResults/PlasmidvsDMSO_mle_HT"
   ]
  },
  {
   "cell_type": "code",
   "execution_count": null,
   "metadata": {
    "vscode": {
     "languageId": "r"
    }
   },
   "outputs": [],
   "source": [
    "##Create matrix\n",
    "#Samples        baseline        Taz\n",
    "#DMSO_1   1               0\n",
    "#DMSO_2   1               0\n",
    "#Taz_1     1               1\n",
    "#Taz_2     1               1"
   ]
  },
  {
   "cell_type": "code",
   "execution_count": 8,
   "metadata": {
    "vscode": {
     "languageId": "r"
    }
   },
   "outputs": [
    {
     "name": "stderr",
     "output_type": "stream",
     "text": [
      "'getOption(\"repos\")' replaces Bioconductor standard repositories, see\n",
      "'help(\"repositories\", package = \"BiocManager\")' for details.\n",
      "Replacement repositories:\n",
      "    CRAN: https://cloud.r-project.org\n",
      "\n"
     ]
    },
    {
     "name": "stderr",
     "output_type": "stream",
     "text": [
      "Bioconductor version 3.15 (BiocManager 1.30.20), R 4.2.0 (2022-04-22)\n",
      "\n",
      "Installing package(s) 'MAGeCKFlute'\n",
      "\n",
      "also installing the dependency ‘clusterProfiler’\n",
      "\n",
      "\n",
      "Warning message in install.packages(...):\n",
      "“installation of package ‘clusterProfiler’ had non-zero exit status”\n",
      "Warning message in install.packages(...):\n",
      "“installation of package ‘MAGeCKFlute’ had non-zero exit status”\n",
      "Installation paths not writeable, unable to update packages\n",
      "  path: /usr/lib/R/library\n",
      "  packages:\n",
      "    boot, class, cluster, codetools, foreign, KernSmooth, lattice, mgcv, nnet,\n",
      "    rpart\n",
      "  path: /usr/lib/R/site-library\n",
      "  packages:\n",
      "    littler\n",
      "  path: /usr/local/lib/R/site-library\n",
      "  packages:\n",
      "    acepack, ade4, affy, affyio, amap, annotate, AnnotationDbi,\n",
      "    AnnotationFilter, askpass, backports, batchtools, bdsmatrix, BH, Biobase,\n",
      "    BiocFileCache, BiocGenerics, BiocIO, BiocParallel, BiocVersion, Biostrings,\n",
      "    bit, blob, brew, brio, BSgenome, BSgenome.Hsapiens.UCSC.hg38, cachem,\n",
      "    callr, carData, circlize, cli, clipr, clue, colorspace, colourpicker,\n",
      "    commonmark, ComplexHeatmap, config, conquer, corrplot, covr, cpp11, crayon,\n",
      "    crosstalk, csaw, curl, data.table, DBI, dbplyr, DelayedArray, DEP, desc,\n",
      "    DESeq2, devtools, doMC, doParallel, dqrng, e1071, ecodist, edgeR,\n",
      "    extrafont, fansi, farver, fastmap, fdrtool, fontawesome, forcats, foreach,\n",
      "    formatR, Formula, gargle, gcrma, genefilter, geneplotter, generics,\n",
      "    GenomeInfoDb, GenomeInfoDbData, GenomicAlignments, GenomicRanges,\n",
      "    ggbeeswarm, ggpubr, ggrepel, ggsci, ggsignif, gh, git2r, gitcreds, globals,\n",
      "    glue, gmm, GO.db, googledrive, googlesheets4, gower, gplots, graph, gtools,\n",
      "    hdf5r, heatmaply, highr, hms, htmlTable, httpuv, httr, hwriter, idr,\n",
      "    impute, imputeLCMD, interactiveDisplayBase, ipred, IRanges, irlba, isoband,\n",
      "    iterators, jpeg, jsonlite, KEGGREST, labeling, later, latticeExtra, lava,\n",
      "    lifecycle, limma, listenv, locfit, log4r, lubridate, magrittr, MALDIquant,\n",
      "    maps, markdown, MatrixGenerics, matrixStats, memoise, metapod, modelr,\n",
      "    MsCoreUtils, MSnbase, multtest, mvtnorm, mzID, mzR, ncdf4, nloptr, openssl,\n",
      "    openxlsx, optparse, pbapply, pbkrtest, pcaMethods, pcaPP, plyr, png,\n",
      "    polynom, preprocessCore, pROC, prodlim, promises, ProtGenerics, proxy, qap,\n",
      "    ragg, RBGL, RColorBrewer, Rcpp, RcppEigen, RCurl, rematch, reprex, reshape,\n",
      "    restfulr, rex, Rgraphviz, rhdf5, rhdf5filters, Rhdf5lib, Rhtslib, rintrojs,\n",
      "    rje, rjson, RJSONIO, rlang, RNetCDF, roxygen2, rprojroot, Rsamtools,\n",
      "    RSQLite, rstatix, rstudioapi, rtracklayer, Rttf2pt1, rversions, rvest,\n",
      "    S4Vectors, sandwich, scales, sda, seqinr, sessioninfo, shiny, shinyjs,\n",
      "    ShortRead, sourcetools, statmod, stringi, stringr, SummarizedExperiment,\n",
      "    sys, systemfonts, tidyr, tidyselect, tidyverse, timeDate, tmvtnorm,\n",
      "    truncnorm, tximport, tximportData, utf8, vctrs, VennDiagram, viridis, vsn,\n",
      "    whisker, withr, XML, XVector, yaml, zip, zlibbioc\n",
      "\n",
      "Old packages: 'aplot', 'ashr', 'bench', 'BiocManager', 'broom', 'bslib',\n",
      "  'Cairo', 'car', 'caret', 'checkmate', 'chron', 'classInt', 'clock',\n",
      "  'credentials', 'crul', 'cyclocomp', 'datawizard', 'dendextend', 'DEoptimR',\n",
      "  'digest', 'downlit', 'dplyr', 'DT', 'dtplyr', 'ellipse', 'emdbook',\n",
      "  'emmeans', 'evaluate', 'FactoMineR', 'fastmatch', 'fields', 'fitdistrplus',\n",
      "  'fs', 'future', 'future.apply', 'gap', 'gap.datasets', 'gdata', 'gdtools',\n",
      "  'gert', 'ggfun', 'ggplot2', 'ggplotify', 'ggrastr', 'ggvenn',\n",
      "  'ggVennDiagram', 'glmnet', 'graphlayouts', 'gt', 'gtable', 'hardhat',\n",
      "  'haven', 'Hmisc', 'htmltools', 'htmlwidgets', 'igraph', 'insight', 'knitr',\n",
      "  'Lahman', 'languageserver', 'lintr', 'lme4', 'maptools', 'MASS', 'Matrix',\n",
      "  'MatrixModels', 'microbenchmark', 'minqa', 'nlme', 'nnls', 'norm',\n",
      "  'parallelly', 'patchwork', 'pbdZMQ', 'pillar', 'pkgbuild', 'pkgload',\n",
      "  'plotly', 'processx', 'profvis', 'progressr', 'ps', 'pscl', 'purrr', 'qdap',\n",
      "  'qdapTools', 'quantreg', 'RcppArmadillo', 'RcppNumerical', 'readr', 'readxl',\n",
      "  'recipes', 'remotes', 'reticulate', 'Rfast', 'rio', 'rmarkdown', 'robust',\n",
      "  'robustbase', 'rrcov', 's2', 'sass', 'scatterpie', 'scatterplot3d',\n",
      "  'segmented', 'seriation', 'sf', 'shinyWidgets', 'sp', 'spatial', 'strawr',\n",
      "  'styler', 'survival', 'sva', 'testthat', 'tibble', 'tictoc', 'tidytree',\n",
      "  'tinytex', 'TSP', 'tzdb', 'units', 'usethis', 'uuid', 'V8', 'VGAM',\n",
      "  'viridisLite', 'vroom', 'waldo', 'webshot', 'WGCNA', 'wk', 'xfun', 'xml2',\n",
      "  'yulab.utils', 'zoo'\n",
      "\n"
     ]
    }
   ],
   "source": [
    "BiocManager::install(\"MAGeCKFlute\")"
   ]
  },
  {
   "cell_type": "code",
   "execution_count": 9,
   "metadata": {
    "vscode": {
     "languageId": "r"
    }
   },
   "outputs": [
    {
     "ename": "ERROR",
     "evalue": "Error in library(MAGeCKFlute): there is no package called ‘MAGeCKFlute’\n",
     "output_type": "error",
     "traceback": [
      "Error in library(MAGeCKFlute): there is no package called ‘MAGeCKFlute’\nTraceback:\n",
      "1. library(MAGeCKFlute)"
     ]
    }
   ],
   "source": [
    "# Read and visualize the file format\n",
    "\n",
    "library(MAGeCKFlute)\n",
    "library(ggplot2)\n",
    "\n",
    "gdata = read.delim(\"/home/darragh/New/DAN_CRISPR_Screen/mageckResults/DMSOVspDNA_m.gene_summary.txt\")\n",
    "sdata = read.delim(\"/home/darragh/New/DAN_CRISPR_Screen/mageckResults/DMSOVspDNA_m.sgrna_summary.txt\")\n",
    "\n",
    "head(gdata)\n",
    "head(sdata)\n",
    "\n",
    "FluteRRA(gdata, sdata, proj=\"daire\", organism=\"hsa\", scale_cutoff = 1, outdir = \"./\",  omitEssential = TRUE)"
   ]
  },
  {
   "cell_type": "markdown",
   "metadata": {},
   "source": [
    "# TAZ DMSO"
   ]
  },
  {
   "cell_type": "code",
   "execution_count": 10,
   "metadata": {
    "vscode": {
     "languageId": "r"
    }
   },
   "outputs": [],
   "source": [
    "import pandas as pd\n",
    "\n",
    "gene_mle = pd.read_table(\"/home/darragh/New/DAN_CRISPR_Screen/WSU/TazVspDNA_mle.gene_summary.txt\")\n",
    "gene_counts = pd.read_table(\"/home/darragh/New/DAN_CRISPR_Screen/WSU/TazVspDNA_mageckCounts.count_normalized.txt\")\n",
    "gene_counts['pDNA'] = (gene_counts['pDNA_1'] + gene_counts['pDNA_2'])/2\n",
    "gene_counts['Taz'] = (gene_counts['Taz_1'] + gene_counts['Taz_2'])/2\n",
    "gene_counts_mle = gene_counts.merge(gene_mle, on=\"Gene\")\n",
    "gene_counts_mle = gene_counts_mle[['Gene',\t'Taz',\t'pDNA', 'Taz|p-value',\t'Taz|fdr']] \n",
    "gene_counts_mle.to_csv(\"/home/darragh/New/DAN_CRISPR_Screen/WSU/TazpDNA_normalized_counts_mle.txt\", sep = \"\\t\", header=True, index=False)\n",
    "\n",
    "gene_mle = pd.read_table(\"/home/darragh/New/DAN_CRISPR_Screen/mageckResults_2/DMSOVsPlasmid_mle.gene_summary.txt\")\n",
    "gene_counts = pd.read_table(\"/home/darragh/New/DAN_CRISPR_Screen/mageckResults_2/DMSOvsPlasmid_mageckCounts.count_normalized.txt\")\n",
    "gene_counts['pDNA'] = (gene_counts['Plasmid_1'] + gene_counts['Plasmid_2'])/2\n",
    "gene_counts['DMSO'] = (gene_counts['DMSO_1'] + gene_counts['DMSO_2'])/2\n",
    "gene_counts_mle = gene_counts.merge(gene_mle, on=\"Gene\")\n",
    "gene_counts_mle = gene_counts_mle[['Gene',\t'DMSO',\t'pDNA', 'plasmid|p-value',\t'plasmid|fdr']] \n",
    "gene_counts_mle.to_csv(\"/home/darragh/New/DAN_CRISPR_Screen/WSU/DMSOpDNA_normalized_counts_mle.txt\", sep = \"\\t\", header=True, index=False)\n"
   ]
  },
  {
   "cell_type": "code",
   "execution_count": 14,
   "metadata": {
    "vscode": {
     "languageId": "r"
    }
   },
   "outputs": [
    {
     "data": {
      "text/html": [
       "<div>\n",
       "<style scoped>\n",
       "    .dataframe tbody tr th:only-of-type {\n",
       "        vertical-align: middle;\n",
       "    }\n",
       "\n",
       "    .dataframe tbody tr th {\n",
       "        vertical-align: top;\n",
       "    }\n",
       "\n",
       "    .dataframe thead th {\n",
       "        text-align: right;\n",
       "    }\n",
       "</style>\n",
       "<table border=\"1\" class=\"dataframe\">\n",
       "  <thead>\n",
       "    <tr style=\"text-align: right;\">\n",
       "      <th></th>\n",
       "      <th>patientId</th>\n",
       "      <th>sampleId</th>\n",
       "      <th>setName</th>\n",
       "      <th>tumorPurity</th>\n",
       "      <th>hmfPatientId</th>\n",
       "      <th>hmfSampleId</th>\n",
       "      <th>primaryTumorLocation</th>\n",
       "      <th>primaryTumorSubLocation</th>\n",
       "      <th>primaryTumorType</th>\n",
       "      <th>primaryTumorSubType</th>\n",
       "      <th>...</th>\n",
       "      <th>hasSystemicPreTreatment</th>\n",
       "      <th>hasRadiotherapyPreTreatment</th>\n",
       "      <th>treatmentGiven</th>\n",
       "      <th>treatmentStartDate</th>\n",
       "      <th>treatmentEndDate</th>\n",
       "      <th>treatment</th>\n",
       "      <th>treatmentType</th>\n",
       "      <th>responseDate</th>\n",
       "      <th>responseMeasured</th>\n",
       "      <th>firstResponse</th>\n",
       "    </tr>\n",
       "  </thead>\n",
       "  <tbody>\n",
       "    <tr>\n",
       "      <th>1530</th>\n",
       "      <td>CPCT02010326</td>\n",
       "      <td>CPCT02010326TII</td>\n",
       "      <td>170423_HMFregCPCT_FR10302039_FR14064597_CPCT02...</td>\n",
       "      <td>0.78</td>\n",
       "      <td>HMF002035</td>\n",
       "      <td>HMF002035A</td>\n",
       "      <td>Breast</td>\n",
       "      <td>NaN</td>\n",
       "      <td>Carcinoma</td>\n",
       "      <td>Triple negative</td>\n",
       "      <td>...</td>\n",
       "      <td>Yes</td>\n",
       "      <td>Yes</td>\n",
       "      <td>No</td>\n",
       "      <td>NaN</td>\n",
       "      <td>NaN</td>\n",
       "      <td>NaN</td>\n",
       "      <td>NaN</td>\n",
       "      <td>NaN</td>\n",
       "      <td>NaN</td>\n",
       "      <td>NaN</td>\n",
       "    </tr>\n",
       "  </tbody>\n",
       "</table>\n",
       "<p>1 rows × 28 columns</p>\n",
       "</div>"
      ],
      "text/plain": [
       "         patientId         sampleId  \\\n",
       "1530  CPCT02010326  CPCT02010326TII   \n",
       "\n",
       "                                                setName  tumorPurity  \\\n",
       "1530  170423_HMFregCPCT_FR10302039_FR14064597_CPCT02...         0.78   \n",
       "\n",
       "     hmfPatientId hmfSampleId primaryTumorLocation primaryTumorSubLocation  \\\n",
       "1530    HMF002035  HMF002035A               Breast                     NaN   \n",
       "\n",
       "     primaryTumorType primaryTumorSubType  ... hasSystemicPreTreatment  \\\n",
       "1530        Carcinoma     Triple negative  ...                     Yes   \n",
       "\n",
       "     hasRadiotherapyPreTreatment treatmentGiven treatmentStartDate  \\\n",
       "1530                         Yes             No                NaN   \n",
       "\n",
       "     treatmentEndDate treatment  treatmentType responseDate responseMeasured  \\\n",
       "1530              NaN       NaN            NaN          NaN              NaN   \n",
       "\n",
       "     firstResponse  \n",
       "1530           NaN  \n",
       "\n",
       "[1 rows x 28 columns]"
      ]
     },
     "metadata": {},
     "output_type": "display_data"
    }
   ],
   "source": [
    "import pandas as pd\n",
    "\n",
    "file = pd.read_table(\"/home/darragh//Hartwig/metadata.tsv\", sep = \"\\t\")\n",
    "\n",
    "file = file.loc[file['primaryTumorLocation'] == \"Breast\"]\n",
    "file = file.loc[file['biopsySite'] == \"Brain\"]\n",
    "\n",
    "display(file)\n",
    "\n",
    "\n",
    "\n"
   ]
  },
  {
   "cell_type": "code",
   "execution_count": 2,
   "metadata": {
    "vscode": {
     "languageId": "r"
    }
   },
   "outputs": [
    {
     "data": {
      "text/html": [
       "<div>\n",
       "<style scoped>\n",
       "    .dataframe tbody tr th:only-of-type {\n",
       "        vertical-align: middle;\n",
       "    }\n",
       "\n",
       "    .dataframe tbody tr th {\n",
       "        vertical-align: top;\n",
       "    }\n",
       "\n",
       "    .dataframe thead th {\n",
       "        text-align: right;\n",
       "    }\n",
       "</style>\n",
       "<table border=\"1\" class=\"dataframe\">\n",
       "  <thead>\n",
       "    <tr style=\"text-align: right;\">\n",
       "      <th></th>\n",
       "      <th>Gene</th>\n",
       "      <th>sgRNA</th>\n",
       "      <th>Taz|beta</th>\n",
       "      <th>Taz|z</th>\n",
       "      <th>Taz|p-value</th>\n",
       "      <th>Taz|fdr</th>\n",
       "      <th>Taz|wald-p-value</th>\n",
       "      <th>Taz|wald-fdr</th>\n",
       "    </tr>\n",
       "  </thead>\n",
       "  <tbody>\n",
       "    <tr>\n",
       "      <th>18715</th>\n",
       "      <td>AEBP2</td>\n",
       "      <td>4</td>\n",
       "      <td>-0.63096</td>\n",
       "      <td>-1.6909</td>\n",
       "      <td>0.001425</td>\n",
       "      <td>0.097826</td>\n",
       "      <td>0.090862</td>\n",
       "      <td>0.81144</td>\n",
       "    </tr>\n",
       "  </tbody>\n",
       "</table>\n",
       "</div>"
      ],
      "text/plain": [
       "        Gene  sgRNA  Taz|beta   Taz|z  Taz|p-value   Taz|fdr  \\\n",
       "18715  AEBP2      4  -0.63096 -1.6909     0.001425  0.097826   \n",
       "\n",
       "       Taz|wald-p-value  Taz|wald-fdr  \n",
       "18715          0.090862       0.81144  "
      ]
     },
     "execution_count": 2,
     "metadata": {},
     "output_type": "execute_result"
    }
   ],
   "source": [
    "import pandas as pd\n",
    "\n",
    "gene_mle = pd.read_table(\"/home/darragh/New/DAN_CRISPR_Screen/WSU/TazVsDMSO_mle.gene_summary.txt\")\n",
    "gene_mle.loc[gene_mle['Gene'] == \"AEBP2\"]\n"
   ]
  },
  {
   "cell_type": "code",
   "execution_count": 5,
   "metadata": {
    "vscode": {
     "languageId": "r"
    }
   },
   "outputs": [
    {
     "name": "stderr",
     "output_type": "stream",
     "text": [
      "\n",
      "Attaching package: ‘dplyr’\n",
      "\n",
      "\n",
      "The following objects are masked from ‘package:stats’:\n",
      "\n",
      "    filter, lag\n",
      "\n",
      "\n",
      "The following objects are masked from ‘package:base’:\n",
      "\n",
      "    intersect, setdiff, setequal, union\n",
      "\n",
      "\n"
     ]
    },
    {
     "data": {
      "text/html": [
       "<table class=\"dataframe\">\n",
       "<caption>A data.frame: 6 × 3</caption>\n",
       "<thead>\n",
       "\t<tr><th></th><th scope=col>Gene</th><th scope=col>average_taz_FC</th><th scope=col>average_dmso_FC</th></tr>\n",
       "\t<tr><th></th><th scope=col>&lt;chr&gt;</th><th scope=col>&lt;dbl&gt;</th><th scope=col>&lt;dbl&gt;</th></tr>\n",
       "</thead>\n",
       "<tbody>\n",
       "\t<tr><th scope=row>1</th><td>A1BG   </td><td>-0.42471846</td><td>-0.31068060</td></tr>\n",
       "\t<tr><th scope=row>2</th><td>A1CF   </td><td> 0.28404174</td><td> 0.16226047</td></tr>\n",
       "\t<tr><th scope=row>3</th><td>A2M    </td><td> 0.07601573</td><td> 0.03445976</td></tr>\n",
       "\t<tr><th scope=row>4</th><td>A2ML1  </td><td>-0.02496460</td><td> 0.05415248</td></tr>\n",
       "\t<tr><th scope=row>5</th><td>A3GALT2</td><td> 0.50800866</td><td> 0.36978604</td></tr>\n",
       "\t<tr><th scope=row>6</th><td>A4GALT </td><td> 0.32663040</td><td>-0.21769452</td></tr>\n",
       "</tbody>\n",
       "</table>\n"
      ],
      "text/latex": [
       "A data.frame: 6 × 3\n",
       "\\begin{tabular}{r|lll}\n",
       "  & Gene & average\\_taz\\_FC & average\\_dmso\\_FC\\\\\n",
       "  & <chr> & <dbl> & <dbl>\\\\\n",
       "\\hline\n",
       "\t1 & A1BG    & -0.42471846 & -0.31068060\\\\\n",
       "\t2 & A1CF    &  0.28404174 &  0.16226047\\\\\n",
       "\t3 & A2M     &  0.07601573 &  0.03445976\\\\\n",
       "\t4 & A2ML1   & -0.02496460 &  0.05415248\\\\\n",
       "\t5 & A3GALT2 &  0.50800866 &  0.36978604\\\\\n",
       "\t6 & A4GALT  &  0.32663040 & -0.21769452\\\\\n",
       "\\end{tabular}\n"
      ],
      "text/markdown": [
       "\n",
       "A data.frame: 6 × 3\n",
       "\n",
       "| <!--/--> | Gene &lt;chr&gt; | average_taz_FC &lt;dbl&gt; | average_dmso_FC &lt;dbl&gt; |\n",
       "|---|---|---|---|\n",
       "| 1 | A1BG    | -0.42471846 | -0.31068060 |\n",
       "| 2 | A1CF    |  0.28404174 |  0.16226047 |\n",
       "| 3 | A2M     |  0.07601573 |  0.03445976 |\n",
       "| 4 | A2ML1   | -0.02496460 |  0.05415248 |\n",
       "| 5 | A3GALT2 |  0.50800866 |  0.36978604 |\n",
       "| 6 | A4GALT  |  0.32663040 | -0.21769452 |\n",
       "\n"
      ],
      "text/plain": [
       "  Gene    average_taz_FC average_dmso_FC\n",
       "1 A1BG    -0.42471846    -0.31068060    \n",
       "2 A1CF     0.28404174     0.16226047    \n",
       "3 A2M      0.07601573     0.03445976    \n",
       "4 A2ML1   -0.02496460     0.05415248    \n",
       "5 A3GALT2  0.50800866     0.36978604    \n",
       "6 A4GALT   0.32663040    -0.21769452    "
      ]
     },
     "metadata": {},
     "output_type": "display_data"
    },
    {
     "data": {
      "text/html": [
       "<table class=\"dataframe\">\n",
       "<caption>A data.frame: 1 × 3</caption>\n",
       "<thead>\n",
       "\t<tr><th></th><th scope=col>Gene</th><th scope=col>average_taz_FC</th><th scope=col>average_dmso_FC</th></tr>\n",
       "\t<tr><th></th><th scope=col>&lt;chr&gt;</th><th scope=col>&lt;dbl&gt;</th><th scope=col>&lt;dbl&gt;</th></tr>\n",
       "</thead>\n",
       "<tbody>\n",
       "\t<tr><th scope=row>392</th><td>AEBP2</td><td>-2.79448</td><td>-1.599014</td></tr>\n",
       "</tbody>\n",
       "</table>\n"
      ],
      "text/latex": [
       "A data.frame: 1 × 3\n",
       "\\begin{tabular}{r|lll}\n",
       "  & Gene & average\\_taz\\_FC & average\\_dmso\\_FC\\\\\n",
       "  & <chr> & <dbl> & <dbl>\\\\\n",
       "\\hline\n",
       "\t392 & AEBP2 & -2.79448 & -1.599014\\\\\n",
       "\\end{tabular}\n"
      ],
      "text/markdown": [
       "\n",
       "A data.frame: 1 × 3\n",
       "\n",
       "| <!--/--> | Gene &lt;chr&gt; | average_taz_FC &lt;dbl&gt; | average_dmso_FC &lt;dbl&gt; |\n",
       "|---|---|---|---|\n",
       "| 392 | AEBP2 | -2.79448 | -1.599014 |\n",
       "\n"
      ],
      "text/plain": [
       "    Gene  average_taz_FC average_dmso_FC\n",
       "392 AEBP2 -2.79448       -1.599014      "
      ]
     },
     "metadata": {},
     "output_type": "display_data"
    },
    {
     "data": {
      "image/png": "[encoded data removed]",
      "text/plain": [
       "plot without title"
      ]
     },
     "metadata": {
      "image/png": {
       "height": 420,
       "width": 420
      }
     },
     "output_type": "display_data"
    }
   ],
   "source": [
    "library(ggplot2)\n",
    "library(dplyr)\n",
    "\n",
    "taz = read.table(\"/home/darragh/New/DAN_CRISPR_Screen/WSU/TazpDNA_normalized_counts_mle.txt\", header=T)\n",
    "\n",
    "dmso = read.table(\"/home/darragh/New/DAN_CRISPR_Screen/WSU/DMSOpDNA_normalized_counts_mle.txt\", header=T)\n",
    "\n",
    "taz$taz_FC = log2((taz$Taz+1) / (taz$pDNA+1))\n",
    "dmso$dmso_FC = log2((dmso$DMSO+1) / (dmso$pDNA+1))\n",
    "\n",
    "taz = taz[,c(\"Gene\", \"taz_FC\")]\n",
    "dmso = dmso[,c(\"Gene\", \"dmso_FC\")]\n",
    "\n",
    "taz <- taz %>%\n",
    "  group_by(Gene) %>%\n",
    "  summarise(average_taz_FC = mean(taz_FC))\n",
    "\n",
    "dmso <- dmso %>%\n",
    "  group_by(Gene) %>%\n",
    "  summarise(average_dmso_FC = mean(dmso_FC))\n",
    "\n",
    "taz_dmso = merge(taz, dmso, by=\"Gene\")\n",
    "\n",
    "head(taz_dmso)\n",
    "\n",
    "\n",
    "# head(file)\n",
    "\n",
    "ggplot(taz_dmso, aes(x=average_taz_FC, y=average_dmso_FC)) +\n",
    "geom_point()\n",
    "\n",
    "taz_dmso[taz_dmso$Gene == \"AEBP2\",]\n",
    "\n"
   ]
  },
  {
   "cell_type": "code",
   "execution_count": 21,
   "metadata": {
    "vscode": {
     "languageId": "r"
    }
   },
   "outputs": [
    {
     "data": {
      "text/html": [
       "<table class=\"dataframe\">\n",
       "<caption>A data.frame: 1 × 3</caption>\n",
       "<thead>\n",
       "\t<tr><th></th><th scope=col>Gene</th><th scope=col>average_taz_FC</th><th scope=col>average_dmso_FC</th></tr>\n",
       "\t<tr><th></th><th scope=col>&lt;chr&gt;</th><th scope=col>&lt;dbl&gt;</th><th scope=col>&lt;dbl&gt;</th></tr>\n",
       "</thead>\n",
       "<tbody>\n",
       "\t<tr><th scope=row>15114</th><td>SMARCA5</td><td>-2.559828</td><td>-1.313375</td></tr>\n",
       "</tbody>\n",
       "</table>\n"
      ],
      "text/latex": [
       "A data.frame: 1 × 3\n",
       "\\begin{tabular}{r|lll}\n",
       "  & Gene & average\\_taz\\_FC & average\\_dmso\\_FC\\\\\n",
       "  & <chr> & <dbl> & <dbl>\\\\\n",
       "\\hline\n",
       "\t15114 & SMARCA5 & -2.559828 & -1.313375\\\\\n",
       "\\end{tabular}\n"
      ],
      "text/markdown": [
       "\n",
       "A data.frame: 1 × 3\n",
       "\n",
       "| <!--/--> | Gene &lt;chr&gt; | average_taz_FC &lt;dbl&gt; | average_dmso_FC &lt;dbl&gt; |\n",
       "|---|---|---|---|\n",
       "| 15114 | SMARCA5 | -2.559828 | -1.313375 |\n",
       "\n"
      ],
      "text/plain": [
       "      Gene    average_taz_FC average_dmso_FC\n",
       "15114 SMARCA5 -2.559828      -1.313375      "
      ]
     },
     "metadata": {},
     "output_type": "display_data"
    }
   ],
   "source": [
    "taz_dmso[taz_dmso$Gene == \"SMARCA5\",]\n",
    "\n"
   ]
  },
  {
   "cell_type": "code",
   "execution_count": 14,
   "metadata": {
    "vscode": {
     "languageId": "r"
    }
   },
   "outputs": [
    {
     "data": {
      "text/html": [
       "<table class=\"dataframe\">\n",
       "<caption>A data.frame: 1 × 8</caption>\n",
       "<thead>\n",
       "\t<tr><th></th><th scope=col>Gene</th><th scope=col>sgRNA</th><th scope=col>Taz.beta</th><th scope=col>Taz.z</th><th scope=col>Taz.p.value</th><th scope=col>Taz.fdr</th><th scope=col>Taz.wald.p.value</th><th scope=col>Taz.wald.fdr</th></tr>\n",
       "\t<tr><th></th><th scope=col>&lt;chr&gt;</th><th scope=col>&lt;int&gt;</th><th scope=col>&lt;dbl&gt;</th><th scope=col>&lt;dbl&gt;</th><th scope=col>&lt;dbl&gt;</th><th scope=col>&lt;dbl&gt;</th><th scope=col>&lt;dbl&gt;</th><th scope=col>&lt;dbl&gt;</th></tr>\n",
       "</thead>\n",
       "<tbody>\n",
       "\t<tr><th scope=row>3228</th><td>EP300</td><td>4</td><td>-1.9301</td><td>-6.1622</td><td>0</td><td>0</td><td>7.1756e-10</td><td>1.0706e-07</td></tr>\n",
       "</tbody>\n",
       "</table>\n"
      ],
      "text/latex": [
       "A data.frame: 1 × 8\n",
       "\\begin{tabular}{r|llllllll}\n",
       "  & Gene & sgRNA & Taz.beta & Taz.z & Taz.p.value & Taz.fdr & Taz.wald.p.value & Taz.wald.fdr\\\\\n",
       "  & <chr> & <int> & <dbl> & <dbl> & <dbl> & <dbl> & <dbl> & <dbl>\\\\\n",
       "\\hline\n",
       "\t3228 & EP300 & 4 & -1.9301 & -6.1622 & 0 & 0 & 7.1756e-10 & 1.0706e-07\\\\\n",
       "\\end{tabular}\n"
      ],
      "text/markdown": [
       "\n",
       "A data.frame: 1 × 8\n",
       "\n",
       "| <!--/--> | Gene &lt;chr&gt; | sgRNA &lt;int&gt; | Taz.beta &lt;dbl&gt; | Taz.z &lt;dbl&gt; | Taz.p.value &lt;dbl&gt; | Taz.fdr &lt;dbl&gt; | Taz.wald.p.value &lt;dbl&gt; | Taz.wald.fdr &lt;dbl&gt; |\n",
       "|---|---|---|---|---|---|---|---|---|\n",
       "| 3228 | EP300 | 4 | -1.9301 | -6.1622 | 0 | 0 | 7.1756e-10 | 1.0706e-07 |\n",
       "\n"
      ],
      "text/plain": [
       "     Gene  sgRNA Taz.beta Taz.z   Taz.p.value Taz.fdr Taz.wald.p.value\n",
       "3228 EP300 4     -1.9301  -6.1622 0           0       7.1756e-10      \n",
       "     Taz.wald.fdr\n",
       "3228 1.0706e-07  "
      ]
     },
     "metadata": {},
     "output_type": "display_data"
    }
   ],
   "source": [
    "taz = read.table(\"/home/darragh/New/DAN_CRISPR_Screen/WSU/TazVspDNA_mle.gene_summary.txt\", header=T)\n",
    "taz[taz$Gene == \"EP300\",]\n",
    "\n"
   ]
  },
  {
   "cell_type": "code",
   "execution_count": 7,
   "metadata": {
    "vscode": {
     "languageId": "r"
    }
   },
   "outputs": [
    {
     "ename": "ERROR",
     "evalue": "Error in unique.default((taz_signif$gene), taz_q_value): object 'taz_q_value' not found\n",
     "output_type": "error",
     "traceback": [
      "Error in unique.default((taz_signif$gene), taz_q_value): object 'taz_q_value' not found\nTraceback:\n",
      "1. as.data.frame(c(unique((taz_signif$gene), taz_q_value)))",
      "2. unique((taz_signif$gene), taz_q_value)",
      "3. unique.default((taz_signif$gene), taz_q_value)"
     ]
    }
   ],
   "source": [
    "taz = read.table(\"/home/darragh/New/DAN_CRISPR_Screen/WSU/TazpDNA_normalized_counts_mle.txt\", header=T)\n",
    "colnames(taz) = c(\"gene\", \"taz\", \"pDNA\", \"taz_p_value\", \"taz_q_value\")\n",
    "\n",
    "taz_signif = taz[taz$taz_q_value < 0.25,]\n",
    "\n",
    "taz_genes = as.data.frame(unique(taz$gene))\n",
    "write.table(taz_genes, \"/home/darragh/CRISPR_screen_taz_genes.txt\", sep=\"\\t\", row.names=F, quote=F)\n",
    "\n",
    "taz_signif_gene = as.data.frame(c(unique((taz_signif$gene), taz_q_value)))\n",
    "\n",
    "\n",
    "write.table(taz_signif_gene, \"/home/darragh/CRISPR_screen_taz_signif_genes.txt\", sep=\"\\t\", row.names=F, quote=F)\n",
    "\n",
    "\n",
    "head(taz_signif_gene)\n",
    "\n",
    "\n",
    "# glist = taz_signif_gene.squeeze().str.strip().to_list()\n",
    "\n",
    "# get background gene set\n",
    "\n",
    "# glist_bg = taz$gene.squeeze().str.strip().to_list()\n",
    "\n",
    "# # backgound only reconigized a gene list input.\n",
    "# enr_bg = gp.enrichr(gene_list=glist,\n",
    "#                  gene_sets=['MSigDB_Hallmark_2020','KEGG_2021_Human'],\n",
    "#                  #organism='human', # organism argment is ignored because user input a background\n",
    "#                  background=glist_bg,\n",
    "#                  outdir=None, # don't write to disk\n",
    "#                 )\n",
    "\n",
    "# enr_bg.results.to_csv(\"/home/darragh/New/GSEA/MDAMB231_bg_enr_bg.txt\", sep=\"\\t\", header=True, index=False) \n",
    "# enr_bg = pd.read_table(\"/home/darragh/New/GSEA/MDAMB231_bg_enr_bg.txt\", sep=\"\\t\")\n",
    "\n",
    "# display(enr_bg)\n"
   ]
  },
  {
   "cell_type": "code",
   "execution_count": 25,
   "metadata": {
    "vscode": {
     "languageId": "r"
    }
   },
   "outputs": [],
   "source": [
    "\n",
    "import pandas as pd\n",
    "import numpy as np\n",
    "import gseapy as gp\n",
    "\n",
    "taz = pd.read_table(\"/home/darragh/New/DAN_CRISPR_Screen/WSU/TazVspDNA_mle.gene_summary.txt\")\n",
    "taz = taz.loc[taz['Taz|fdr'] < 0.1]\n",
    "\n",
    "non_essential = pd.read_table(\"/home/darragh/CRISPR_non_essential.txt\", header=None)\n",
    "non_essential.columns = ['gene']\n",
    "\n",
    "taz = taz.loc[taz['Gene'].isin(non_essential['gene'])]\n",
    "taz = taz.sort_values(by='Taz|beta')\n",
    "\n",
    "taz = taz[['Gene']]\n",
    "\n",
    "\n",
    "# pre_res = gp.prerank(rnk=taz, # or rnk = rnk,\n",
    "#                      gene_sets=['MSigDB_Hallmark_2020','KEGG_2021_Human'],\n",
    "#                      threads=4,\n",
    "#                      min_size=5,\n",
    "#                      max_size=1000,\n",
    "#                      permutation_num=1000, # reduce number to speed up testing\n",
    "#                      outdir=None, # don't write to disk\n",
    "#                      seed=6,\n",
    "#                      verbose=True, # see what's going on behind the scenes\n",
    "#                     )\n",
    "\n",
    "# pre_res.res2d.head(10)\n",
    "\n",
    "taz.to_csv(\"/home/darragh/CRISPR_DAN_TAZ_NON_ESSENTIAL.txt\", index=False, sep = \"\\t\")\n",
    "\n"
   ]
  },
  {
   "cell_type": "code",
   "execution_count": null,
   "metadata": {
    "vscode": {
     "languageId": "r"
    }
   },
   "outputs": [],
   "source": []
  },
  {
   "cell_type": "code",
   "execution_count": 4,
   "metadata": {
    "vscode": {
     "languageId": "r"
    }
   },
   "outputs": [
    {
     "name": "stderr",
     "output_type": "stream",
     "text": [
      "\u001b[1m\u001b[22mSaving 6.67 x 6.67 in image\n"
     ]
    },
    {
     "data": {
      "image/png": "[encoded data removed]",
      "text/plain": [
       "plot without title"
      ]
     },
     "metadata": {
      "image/png": {
       "height": 420,
       "width": 420
      }
     },
     "output_type": "display_data"
    }
   ],
   "source": [
    "# Load necessary libraries\n",
    "library(ggplot2)\n",
    "\n",
    "# Create the data frame\n",
    "df <- data.frame(\n",
    "  GO_Term = c(\"GO:0000018\", \"GO:0002250\", \"GO:0025221\", \"GO:0042113\", \"GO:0050853\", \n",
    "              \"GO:0045910\", \"GO:0006325\", \"GO:0051052\", \"GO:0030098\", \"GO:0006955\", \n",
    "              \"GO:0046649\", \"GO:0031497\", \"GO:0050851\", \"GO:0030183\", \"GO:0009893\", \n",
    "              \"GO:0045321\", \"GO:0016570\", \"GO:0051053\", \"GO:0010468\"),\n",
    "  Description = c(\"regulation of DNA recombination\", \"adaptive immune response\", \n",
    "                  \"leukocyte differentiation\", \"B cell activation\", \"B cell receptor signaling pathway\", \n",
    "                  \"negative regulation of DNA recombination\", \"chromatin organization\", \n",
    "                  \"regulation of DNA metabolic process\", \"lymphocyte differentiation\", \"immune response\", \n",
    "                  \"lymphocyte activation\", \"chromatin assembly\", \n",
    "                  \"antigen receptor-mediated signaling pathway\", \"B cell differentiation\", \n",
    "                  \"positive regulation of metabolic process\", \"leukocyte activation\", \n",
    "                  \"histone modification\", \"negative regulation of DNA metabolic process\", \n",
    "                  \"regulation of gene expression\"),\n",
    "  P_value = c(4.22e-6, 1.02e-5, 1.36e-5, 3.21e-5, 3.46e-5, \n",
    "              5.54e-5, 6.41e-5, 7.97e-5, 8.8e-5, 1.04e-4, \n",
    "              1.89e-4, 2.47e-4, 2.68e-4, 2.68e-4, 4.06e-4, \n",
    "              4.45e-4, 4.54e-4, 4.56e-4, 7.78e-4),\n",
    "  FDR_q_value = c(1.85e-2, 2.22e-2, 1.98e-2, 3.51e-2, 3.03e-2, \n",
    "                  4.04e-2, 4.01e-2, 4.37e-2, 4.28e-2, 4.54e-2, \n",
    "                  7.54e-2, 9.03e-2, 9.04e-2, 8.39e-2, 1.18e-1, \n",
    "                  1.22e-1, 1.16e-1, 1.11e-1, 1.79e-1)\n",
    ")\n",
    "\n",
    "# Calculate -log10(FDR q-value)\n",
    "df$logFDR_q_value <- -log10(df$FDR_q_value)\n",
    "\n",
    "# Plot with ggplot2\n",
    "ggplot(df, aes(x = reorder(Description, logFDR_q_value), y = logFDR_q_value, fill = logFDR_q_value)) +\n",
    "  geom_bar(stat = \"identity\") +\n",
    "  coord_flip() +\n",
    "  scale_fill_gradient(low = \"blue\", high = \"red\") +\n",
    "  labs(title = \"GO Term Enrichment Analysis\",\n",
    "       x = \"GO Term Description\",\n",
    "       y = expression(-log[10](\"FDR q-value\"))) +\n",
    "  theme_classic()\n",
    "ggsave(\"/home/darragh/gene_ontology_crispr_plot.pdf\")\n"
   ]
  },
  {
   "cell_type": "code",
   "execution_count": 29,
   "metadata": {
    "vscode": {
     "languageId": "r"
    }
   },
   "outputs": [
    {
     "name": "stderr",
     "output_type": "stream",
     "text": [
      "2024-09-04 10:44:29,856 [WARNING] Input library not found: GOBP_CHROMATIN_REMODELING. Skip\n"
     ]
    },
    {
     "ename": "Exception",
     "evalue": "No GeneSets are valid !!! Check your gene_sets input.",
     "output_type": "error",
     "traceback": [
      "\u001b[0;31m---------------------------------------------------------------------------\u001b[0m",
      "\u001b[0;31mException\u001b[0m                                 Traceback (most recent call last)",
      "Input \u001b[0;32mIn [29]\u001b[0m, in \u001b[0;36m<cell line: 11>\u001b[0;34m()\u001b[0m\n\u001b[1;32m      6\u001b[0m glist \u001b[38;5;241m=\u001b[39m taz[\u001b[38;5;124m'\u001b[39m\u001b[38;5;124mGene\u001b[39m\u001b[38;5;124m'\u001b[39m]\u001b[38;5;241m.\u001b[39msqueeze()\u001b[38;5;241m.\u001b[39mstr\u001b[38;5;241m.\u001b[39mstrip()\u001b[38;5;241m.\u001b[39mto_list()\n\u001b[1;32m      8\u001b[0m \u001b[38;5;66;03m# glist_bg = taz['gene'].squeeze().str.strip().to_list()\u001b[39;00m\n\u001b[1;32m      9\u001b[0m \n\u001b[1;32m     10\u001b[0m \u001b[38;5;66;03m# # backgound only reconigized a gene list input.\u001b[39;00m\n\u001b[0;32m---> 11\u001b[0m enr_bg \u001b[38;5;241m=\u001b[39m \u001b[43mgp\u001b[49m\u001b[38;5;241;43m.\u001b[39;49m\u001b[43menrichr\u001b[49m\u001b[43m(\u001b[49m\u001b[43mgene_list\u001b[49m\u001b[38;5;241;43m=\u001b[39;49m\u001b[43mglist\u001b[49m\u001b[43m,\u001b[49m\n\u001b[1;32m     12\u001b[0m \u001b[43m                 \u001b[49m\u001b[43mgene_sets\u001b[49m\u001b[38;5;241;43m=\u001b[39;49m\u001b[43m[\u001b[49m\u001b[38;5;124;43m'\u001b[39;49m\u001b[38;5;124;43mGOBP_CHROMATIN_REMODELING\u001b[39;49m\u001b[38;5;124;43m'\u001b[39;49m\u001b[43m]\u001b[49m\u001b[43m,\u001b[49m\n\u001b[1;32m     13\u001b[0m \u001b[43m                 \u001b[49m\u001b[43morganism\u001b[49m\u001b[38;5;241;43m=\u001b[39;49m\u001b[38;5;124;43m'\u001b[39;49m\u001b[38;5;124;43mhuman\u001b[39;49m\u001b[38;5;124;43m'\u001b[39;49m\u001b[43m,\u001b[49m\u001b[43m \u001b[49m\u001b[38;5;66;43;03m# organism argment is ignored because user input a background\u001b[39;49;00m\n\u001b[1;32m     14\u001b[0m \u001b[43m                 \u001b[49m\u001b[38;5;66;43;03m#background=glist_bg,\u001b[39;49;00m\n\u001b[1;32m     15\u001b[0m \u001b[43m                 \u001b[49m\u001b[43moutdir\u001b[49m\u001b[38;5;241;43m=\u001b[39;49m\u001b[38;5;28;43;01mNone\u001b[39;49;00m\u001b[43m,\u001b[49m\u001b[43m \u001b[49m\u001b[38;5;66;43;03m# don't write to disk\u001b[39;49;00m\n\u001b[1;32m     16\u001b[0m \u001b[43m                \u001b[49m\u001b[43m)\u001b[49m\n\u001b[1;32m     18\u001b[0m enr_bg\u001b[38;5;241m.\u001b[39mresults\u001b[38;5;241m.\u001b[39mto_csv(\u001b[38;5;124m\"\u001b[39m\u001b[38;5;124m/home/darragh/New/GSEA/Dan_Taz_CRISPR_bg_enr_bg.txt\u001b[39m\u001b[38;5;124m\"\u001b[39m, sep\u001b[38;5;241m=\u001b[39m\u001b[38;5;124m\"\u001b[39m\u001b[38;5;130;01m\\t\u001b[39;00m\u001b[38;5;124m\"\u001b[39m, header\u001b[38;5;241m=\u001b[39m\u001b[38;5;28;01mTrue\u001b[39;00m, index\u001b[38;5;241m=\u001b[39m\u001b[38;5;28;01mFalse\u001b[39;00m) \n\u001b[1;32m     19\u001b[0m enr_bg \u001b[38;5;241m=\u001b[39m pd\u001b[38;5;241m.\u001b[39mread_table(\u001b[38;5;124m\"\u001b[39m\u001b[38;5;124m/home/darragh/New/GSEA/Dan_Taz_CRISPR_bg_enr_bg.txt\u001b[39m\u001b[38;5;124m\"\u001b[39m, sep\u001b[38;5;241m=\u001b[39m\u001b[38;5;124m\"\u001b[39m\u001b[38;5;130;01m\\t\u001b[39;00m\u001b[38;5;124m\"\u001b[39m)\n",
      "File \u001b[0;32m~/.local/lib/python3.8/site-packages/gseapy/__init__.py:510\u001b[0m, in \u001b[0;36menrichr\u001b[0;34m(gene_list, gene_sets, organism, outdir, background, cutoff, format, figsize, top_term, no_plot, verbose)\u001b[0m\n\u001b[1;32m    508\u001b[0m \u001b[38;5;66;03m# set organism\u001b[39;00m\n\u001b[1;32m    509\u001b[0m enr\u001b[38;5;241m.\u001b[39mset_organism()\n\u001b[0;32m--> 510\u001b[0m \u001b[43menr\u001b[49m\u001b[38;5;241;43m.\u001b[39;49m\u001b[43mrun\u001b[49m\u001b[43m(\u001b[49m\u001b[43m)\u001b[49m\n\u001b[1;32m    512\u001b[0m \u001b[38;5;28;01mreturn\u001b[39;00m enr\n",
      "File \u001b[0;32m~/.local/lib/python3.8/site-packages/gseapy/enrichr.py:473\u001b[0m, in \u001b[0;36mEnrichr.run\u001b[0;34m(self)\u001b[0m\n\u001b[1;32m    470\u001b[0m genes_list \u001b[38;5;241m=\u001b[39m \u001b[38;5;28mself\u001b[39m\u001b[38;5;241m.\u001b[39mparse_genelists()\n\u001b[1;32m    472\u001b[0m \u001b[38;5;66;03m# self._logger.info(\"Connecting to Enrichr Server to get latest library names\")\u001b[39;00m\n\u001b[0;32m--> 473\u001b[0m gss \u001b[38;5;241m=\u001b[39m \u001b[38;5;28;43mself\u001b[39;49m\u001b[38;5;241;43m.\u001b[39;49m\u001b[43mparse_genesets\u001b[49m\u001b[43m(\u001b[49m\u001b[43m)\u001b[49m\n\u001b[1;32m    474\u001b[0m \u001b[38;5;28;01mif\u001b[39;00m \u001b[38;5;28mlen\u001b[39m(gss) \u001b[38;5;241m<\u001b[39m \u001b[38;5;241m1\u001b[39m:\n\u001b[1;32m    475\u001b[0m     \u001b[38;5;28mself\u001b[39m\u001b[38;5;241m.\u001b[39m_logger\u001b[38;5;241m.\u001b[39merror(\n\u001b[1;32m    476\u001b[0m         \u001b[38;5;124m\"\u001b[39m\u001b[38;5;124mNone of your input gene set matched ! \u001b[39m\u001b[38;5;132;01m%s\u001b[39;00m\u001b[38;5;124m\"\u001b[39m \u001b[38;5;241m%\u001b[39m \u001b[38;5;28mself\u001b[39m\u001b[38;5;241m.\u001b[39mgene_sets\n\u001b[1;32m    477\u001b[0m     )\n",
      "File \u001b[0;32m~/.local/lib/python3.8/site-packages/gseapy/enrichr.py:157\u001b[0m, in \u001b[0;36mEnrichr.parse_genesets\u001b[0;34m(self, gene_sets)\u001b[0m\n\u001b[1;32m    155\u001b[0m \u001b[38;5;28mself\u001b[39m\u001b[38;5;241m.\u001b[39m_gs_name \u001b[38;5;241m=\u001b[39m gss_name  \u001b[38;5;66;03m# update names\u001b[39;00m\n\u001b[1;32m    156\u001b[0m \u001b[38;5;28;01mif\u001b[39;00m \u001b[38;5;28mlen\u001b[39m(gss_exist) \u001b[38;5;241m<\u001b[39m \u001b[38;5;241m1\u001b[39m:\n\u001b[0;32m--> 157\u001b[0m     \u001b[38;5;28;01mraise\u001b[39;00m \u001b[38;5;167;01mException\u001b[39;00m(\u001b[38;5;124m\"\u001b[39m\u001b[38;5;124mNo GeneSets are valid !!! Check your gene_sets input.\u001b[39m\u001b[38;5;124m\"\u001b[39m)\n\u001b[1;32m    158\u001b[0m \u001b[38;5;28;01mreturn\u001b[39;00m gss_exist\n",
      "\u001b[0;31mException\u001b[0m: No GeneSets are valid !!! Check your gene_sets input."
     ]
    }
   ],
   "source": [
    "\n",
    "import pandas as pd\n",
    "import gseapy as gp\n",
    "\n",
    "taz = pd.read_table(\"/home/darragh/Crispr_screen_da_taz_genes.txt\")\n",
    "\n",
    "glist = taz['Gene'].squeeze().str.strip().to_list()\n",
    "\n",
    "# glist_bg = taz['gene'].squeeze().str.strip().to_list()\n",
    "\n",
    "# # backgound only reconigized a gene list input.\n",
    "enr_bg = gp.enrichr(gene_list=glist,\n",
    "                 gene_sets=['KEGG_2021_Human'],\n",
    "                 organism='human', # organism argment is ignored because user input a background\n",
    "                 #background=glist_bg,\n",
    "                 outdir=None, # don't write to disk\n",
    "                )\n",
    "\n",
    "enr_bg.results.to_csv(\"/home/darragh/New/GSEA/Dan_Taz_CRISPR_bg_enr_bg.txt\", sep=\"\\t\", header=True, index=False) \n",
    "enr_bg = pd.read_table(\"/home/darragh/New/GSEA/Dan_Taz_CRISPR_bg_enr_bg.txt\", sep=\"\\t\")\n",
    "\n",
    "enr_bg_sifnif = enr_bg.loc[enr_bg['Adjusted P-value'] < 0.25]\n",
    "\n",
    "display(enr_bg_sifnif)\n"
   ]
  },
  {
   "cell_type": "code",
   "execution_count": 28,
   "metadata": {
    "vscode": {
     "languageId": "r"
    }
   },
   "outputs": [
    {
     "data": {
      "text/html": [
       "<div>\n",
       "<style scoped>\n",
       "    .dataframe tbody tr th:only-of-type {\n",
       "        vertical-align: middle;\n",
       "    }\n",
       "\n",
       "    .dataframe tbody tr th {\n",
       "        vertical-align: top;\n",
       "    }\n",
       "\n",
       "    .dataframe thead th {\n",
       "        text-align: right;\n",
       "    }\n",
       "</style>\n",
       "<table border=\"1\" class=\"dataframe\">\n",
       "  <thead>\n",
       "    <tr style=\"text-align: right;\">\n",
       "      <th></th>\n",
       "      <th>Gene_set</th>\n",
       "      <th>Term</th>\n",
       "      <th>Overlap</th>\n",
       "      <th>P-value</th>\n",
       "      <th>Adjusted P-value</th>\n",
       "      <th>Old P-value</th>\n",
       "      <th>Old Adjusted P-value</th>\n",
       "      <th>Odds Ratio</th>\n",
       "      <th>Combined Score</th>\n",
       "      <th>Genes</th>\n",
       "    </tr>\n",
       "  </thead>\n",
       "  <tbody>\n",
       "    <tr>\n",
       "      <th>60</th>\n",
       "      <td>KEGG_2021_Human</td>\n",
       "      <td>Central carbon metabolism in cancer</td>\n",
       "      <td>11/70</td>\n",
       "      <td>0.021938</td>\n",
       "      <td>0.099260</td>\n",
       "      <td>0</td>\n",
       "      <td>0</td>\n",
       "      <td>2.162335</td>\n",
       "      <td>8.259128</td>\n",
       "      <td>SLC7A5;G6PD;PKM;SCO2;AKT2;MYC;PGAM1;SLC2A1;PIK...</td>\n",
       "    </tr>\n",
       "    <tr>\n",
       "      <th>61</th>\n",
       "      <td>KEGG_2021_Human</td>\n",
       "      <td>Rheumatoid arthritis</td>\n",
       "      <td>13/93</td>\n",
       "      <td>0.032652</td>\n",
       "      <td>0.145356</td>\n",
       "      <td>0</td>\n",
       "      <td>0</td>\n",
       "      <td>1.884897</td>\n",
       "      <td>6.449812</td>\n",
       "      <td>ATP6V1A;ATP6V0B;ATP6V1G1;ATP6AP1;ITGB2;FOS;ICA...</td>\n",
       "    </tr>\n",
       "    <tr>\n",
       "      <th>62</th>\n",
       "      <td>KEGG_2021_Human</td>\n",
       "      <td>Glutathione metabolism</td>\n",
       "      <td>9/57</td>\n",
       "      <td>0.035226</td>\n",
       "      <td>0.154323</td>\n",
       "      <td>0</td>\n",
       "      <td>0</td>\n",
       "      <td>2.173177</td>\n",
       "      <td>7.271393</td>\n",
       "      <td>G6PD;RRM1;GCLC;RRM2;GPX4;GSS;ODC1;PGD;SRM</td>\n",
       "    </tr>\n",
       "    <tr>\n",
       "      <th>63</th>\n",
       "      <td>KEGG_2021_Human</td>\n",
       "      <td>Cardiac muscle contraction</td>\n",
       "      <td>12/87</td>\n",
       "      <td>0.042701</td>\n",
       "      <td>0.184149</td>\n",
       "      <td>0</td>\n",
       "      <td>0</td>\n",
       "      <td>1.855231</td>\n",
       "      <td>5.850525</td>\n",
       "      <td>COX7B;UQCRB;COX4I1;UQCRC1;ATP2A2;UQCRFS1;ATP1B...</td>\n",
       "    </tr>\n",
       "    <tr>\n",
       "      <th>64</th>\n",
       "      <td>KEGG_2021_Human</td>\n",
       "      <td>Fatty acid biosynthesis</td>\n",
       "      <td>4/18</td>\n",
       "      <td>0.049832</td>\n",
       "      <td>0.211595</td>\n",
       "      <td>0</td>\n",
       "      <td>0</td>\n",
       "      <td>3.307201</td>\n",
       "      <td>9.918614</td>\n",
       "      <td>MECR;ACSL4;MCAT;ACACA</td>\n",
       "    </tr>\n",
       "    <tr>\n",
       "      <th>65</th>\n",
       "      <td>KEGG_2021_Human</td>\n",
       "      <td>Ubiquinone and other terpenoid-quinone biosynt...</td>\n",
       "      <td>3/11</td>\n",
       "      <td>0.051284</td>\n",
       "      <td>0.214459</td>\n",
       "      <td>0</td>\n",
       "      <td>0</td>\n",
       "      <td>4.339387</td>\n",
       "      <td>12.889648</td>\n",
       "      <td>COQ3;COQ2;COQ6</td>\n",
       "    </tr>\n",
       "  </tbody>\n",
       "</table>\n",
       "</div>"
      ],
      "text/plain": [
       "           Gene_set                                               Term  \\\n",
       "60  KEGG_2021_Human                Central carbon metabolism in cancer   \n",
       "61  KEGG_2021_Human                               Rheumatoid arthritis   \n",
       "62  KEGG_2021_Human                             Glutathione metabolism   \n",
       "63  KEGG_2021_Human                         Cardiac muscle contraction   \n",
       "64  KEGG_2021_Human                            Fatty acid biosynthesis   \n",
       "65  KEGG_2021_Human  Ubiquinone and other terpenoid-quinone biosynt...   \n",
       "\n",
       "   Overlap   P-value  Adjusted P-value  Old P-value  Old Adjusted P-value  \\\n",
       "60   11/70  0.021938          0.099260            0                     0   \n",
       "61   13/93  0.032652          0.145356            0                     0   \n",
       "62    9/57  0.035226          0.154323            0                     0   \n",
       "63   12/87  0.042701          0.184149            0                     0   \n",
       "64    4/18  0.049832          0.211595            0                     0   \n",
       "65    3/11  0.051284          0.214459            0                     0   \n",
       "\n",
       "    Odds Ratio  Combined Score  \\\n",
       "60    2.162335        8.259128   \n",
       "61    1.884897        6.449812   \n",
       "62    2.173177        7.271393   \n",
       "63    1.855231        5.850525   \n",
       "64    3.307201        9.918614   \n",
       "65    4.339387       12.889648   \n",
       "\n",
       "                                                Genes  \n",
       "60  SLC7A5;G6PD;PKM;SCO2;AKT2;MYC;PGAM1;SLC2A1;PIK...  \n",
       "61  ATP6V1A;ATP6V0B;ATP6V1G1;ATP6AP1;ITGB2;FOS;ICA...  \n",
       "62          G6PD;RRM1;GCLC;RRM2;GPX4;GSS;ODC1;PGD;SRM  \n",
       "63  COX7B;UQCRB;COX4I1;UQCRC1;ATP2A2;UQCRFS1;ATP1B...  \n",
       "64                              MECR;ACSL4;MCAT;ACACA  \n",
       "65                                     COQ3;COQ2;COQ6  "
      ]
     },
     "execution_count": 28,
     "metadata": {},
     "output_type": "execute_result"
    }
   ],
   "source": [
    "enr_bg_sifnif.tail(6)"
   ]
  },
  {
   "cell_type": "code",
   "execution_count": 37,
   "metadata": {
    "vscode": {
     "languageId": "r"
    }
   },
   "outputs": [
    {
     "data": {
      "text/html": [
       "<div>\n",
       "<style scoped>\n",
       "    .dataframe tbody tr th:only-of-type {\n",
       "        vertical-align: middle;\n",
       "    }\n",
       "\n",
       "    .dataframe tbody tr th {\n",
       "        vertical-align: top;\n",
       "    }\n",
       "\n",
       "    .dataframe thead th {\n",
       "        text-align: right;\n",
       "    }\n",
       "</style>\n",
       "<table border=\"1\" class=\"dataframe\">\n",
       "  <thead>\n",
       "    <tr style=\"text-align: right;\">\n",
       "      <th></th>\n",
       "      <th>Gene</th>\n",
       "    </tr>\n",
       "  </thead>\n",
       "  <tbody>\n",
       "    <tr>\n",
       "      <th>13066</th>\n",
       "      <td>RPL8</td>\n",
       "    </tr>\n",
       "    <tr>\n",
       "      <th>18472</th>\n",
       "      <td>PRPF8</td>\n",
       "    </tr>\n",
       "    <tr>\n",
       "      <th>4587</th>\n",
       "      <td>GAPDH</td>\n",
       "    </tr>\n",
       "    <tr>\n",
       "      <th>1090</th>\n",
       "      <td>DNA2</td>\n",
       "    </tr>\n",
       "    <tr>\n",
       "      <th>1933</th>\n",
       "      <td>POLR2L</td>\n",
       "    </tr>\n",
       "    <tr>\n",
       "      <th>...</th>\n",
       "      <td>...</td>\n",
       "    </tr>\n",
       "    <tr>\n",
       "      <th>11182</th>\n",
       "      <td>ELAVL1</td>\n",
       "    </tr>\n",
       "    <tr>\n",
       "      <th>18612</th>\n",
       "      <td>ZBTB10</td>\n",
       "    </tr>\n",
       "    <tr>\n",
       "      <th>4972</th>\n",
       "      <td>ZFP36L2</td>\n",
       "    </tr>\n",
       "    <tr>\n",
       "      <th>8631</th>\n",
       "      <td>KCTD5</td>\n",
       "    </tr>\n",
       "    <tr>\n",
       "      <th>7877</th>\n",
       "      <td>CAPRIN1</td>\n",
       "    </tr>\n",
       "  </tbody>\n",
       "</table>\n",
       "<p>1381 rows × 1 columns</p>\n",
       "</div>"
      ],
      "text/plain": [
       "          Gene\n",
       "13066     RPL8\n",
       "18472    PRPF8\n",
       "4587     GAPDH\n",
       "1090      DNA2\n",
       "1933    POLR2L\n",
       "...        ...\n",
       "11182   ELAVL1\n",
       "18612   ZBTB10\n",
       "4972   ZFP36L2\n",
       "8631     KCTD5\n",
       "7877   CAPRIN1\n",
       "\n",
       "[1381 rows x 1 columns]"
      ]
     },
     "execution_count": 37,
     "metadata": {},
     "output_type": "execute_result"
    }
   ],
   "source": [
    "file = pd.read_table(\"/home/darragh/New/DAN_CRISPR_Screen/WSU/TazVspDNA_mle.gene_summary.txt\")\n",
    "file = file.loc[file['Taz|fdr'] < 0.1]\n",
    "file = file.sort_values(by='Taz|beta')\n",
    "file = file[['Gene']]\n",
    "file.to_csv(\"/home/darragh/CRISPR_DAN_Taz_beta.txt\", sep=\"\\t\", header=True, index=False) \n",
    "\n",
    "\n",
    "file"
   ]
  },
  {
   "cell_type": "markdown",
   "metadata": {},
   "source": [
    "# Achilles gene effect\n"
   ]
  },
  {
   "cell_type": "code",
   "execution_count": 4,
   "metadata": {
    "vscode": {
     "languageId": "r"
    }
   },
   "outputs": [
    {
     "data": {
      "text/html": [
       "<div>\n",
       "<style scoped>\n",
       "    .dataframe tbody tr th:only-of-type {\n",
       "        vertical-align: middle;\n",
       "    }\n",
       "\n",
       "    .dataframe tbody tr th {\n",
       "        vertical-align: top;\n",
       "    }\n",
       "\n",
       "    .dataframe thead th {\n",
       "        text-align: right;\n",
       "    }\n",
       "</style>\n",
       "<table border=\"1\" class=\"dataframe\">\n",
       "  <thead>\n",
       "    <tr style=\"text-align: right;\">\n",
       "      <th></th>\n",
       "      <th>Unnamed: 0</th>\n",
       "      <th>KARPAS299_HAEMATOPOIETIC_AND_LYMPHOID_TISSUE</th>\n",
       "      <th>KIJK_HAEMATOPOIETIC_AND_LYMPHOID_TISSUE</th>\n",
       "      <th>MOLM13_HAEMATOPOIETIC_AND_LYMPHOID_TISSUE</th>\n",
       "      <th>MV411_HAEMATOPOIETIC_AND_LYMPHOID_TISSUE</th>\n",
       "      <th>NB4_HAEMATOPOIETIC_AND_LYMPHOID_TISSUE</th>\n",
       "      <th>NOMO1_HAEMATOPOIETIC_AND_LYMPHOID_TISSUE</th>\n",
       "      <th>P31FUJ_HAEMATOPOIETIC_AND_LYMPHOID_TISSUE</th>\n",
       "      <th>PF382_HAEMATOPOIETIC_AND_LYMPHOID_TISSUE</th>\n",
       "      <th>SUPM2_HAEMATOPOIETIC_AND_LYMPHOID_TISSUE</th>\n",
       "      <th>SUPT1_HAEMATOPOIETIC_AND_LYMPHOID_TISSUE</th>\n",
       "      <th>TF1_HAEMATOPOIETIC_AND_LYMPHOID_TISSUE</th>\n",
       "      <th>THP1_HAEMATOPOIETIC_AND_LYMPHOID_TISSUE</th>\n",
       "      <th>U937_HAEMATOPOIETIC_AND_LYMPHOID_TISSUE</th>\n",
       "    </tr>\n",
       "  </thead>\n",
       "  <tbody>\n",
       "    <tr>\n",
       "      <th>0</th>\n",
       "      <td>A1BG</td>\n",
       "      <td>0.151919</td>\n",
       "      <td>-0.014550</td>\n",
       "      <td>0.139325</td>\n",
       "      <td>-0.011871</td>\n",
       "      <td>0.057885</td>\n",
       "      <td>0.092022</td>\n",
       "      <td>0.021745</td>\n",
       "      <td>-0.081341</td>\n",
       "      <td>0.087328</td>\n",
       "      <td>-0.037541</td>\n",
       "      <td>0.030342</td>\n",
       "      <td>0.058641</td>\n",
       "      <td>0.061776</td>\n",
       "    </tr>\n",
       "    <tr>\n",
       "      <th>1</th>\n",
       "      <td>A1CF</td>\n",
       "      <td>0.082257</td>\n",
       "      <td>0.037640</td>\n",
       "      <td>0.117566</td>\n",
       "      <td>0.190795</td>\n",
       "      <td>-0.154905</td>\n",
       "      <td>0.104811</td>\n",
       "      <td>0.046745</td>\n",
       "      <td>0.120464</td>\n",
       "      <td>0.000441</td>\n",
       "      <td>0.151514</td>\n",
       "      <td>0.047233</td>\n",
       "      <td>0.084236</td>\n",
       "      <td>0.044977</td>\n",
       "    </tr>\n",
       "    <tr>\n",
       "      <th>2</th>\n",
       "      <td>A2M</td>\n",
       "      <td>-0.043931</td>\n",
       "      <td>-0.027945</td>\n",
       "      <td>-0.019792</td>\n",
       "      <td>0.005568</td>\n",
       "      <td>-0.151108</td>\n",
       "      <td>0.073537</td>\n",
       "      <td>-0.053020</td>\n",
       "      <td>0.009304</td>\n",
       "      <td>-0.022455</td>\n",
       "      <td>-0.031786</td>\n",
       "      <td>-0.157991</td>\n",
       "      <td>-0.093803</td>\n",
       "      <td>-0.075126</td>\n",
       "    </tr>\n",
       "    <tr>\n",
       "      <th>3</th>\n",
       "      <td>A2ML1</td>\n",
       "      <td>0.110374</td>\n",
       "      <td>0.262660</td>\n",
       "      <td>0.156492</td>\n",
       "      <td>0.162100</td>\n",
       "      <td>0.035391</td>\n",
       "      <td>0.299699</td>\n",
       "      <td>0.066575</td>\n",
       "      <td>0.190711</td>\n",
       "      <td>0.128588</td>\n",
       "      <td>0.167483</td>\n",
       "      <td>0.137583</td>\n",
       "      <td>0.191558</td>\n",
       "      <td>0.147213</td>\n",
       "    </tr>\n",
       "    <tr>\n",
       "      <th>4</th>\n",
       "      <td>A3GALT2</td>\n",
       "      <td>-0.103935</td>\n",
       "      <td>0.060571</td>\n",
       "      <td>-0.042927</td>\n",
       "      <td>0.083874</td>\n",
       "      <td>-0.161642</td>\n",
       "      <td>-0.074327</td>\n",
       "      <td>0.006640</td>\n",
       "      <td>0.031336</td>\n",
       "      <td>-0.045402</td>\n",
       "      <td>0.022214</td>\n",
       "      <td>-0.065800</td>\n",
       "      <td>-0.016023</td>\n",
       "      <td>-0.097554</td>\n",
       "    </tr>\n",
       "    <tr>\n",
       "      <th>...</th>\n",
       "      <td>...</td>\n",
       "      <td>...</td>\n",
       "      <td>...</td>\n",
       "      <td>...</td>\n",
       "      <td>...</td>\n",
       "      <td>...</td>\n",
       "      <td>...</td>\n",
       "      <td>...</td>\n",
       "      <td>...</td>\n",
       "      <td>...</td>\n",
       "      <td>...</td>\n",
       "      <td>...</td>\n",
       "      <td>...</td>\n",
       "      <td>...</td>\n",
       "    </tr>\n",
       "    <tr>\n",
       "      <th>17665</th>\n",
       "      <td>ZYG11A</td>\n",
       "      <td>0.065423</td>\n",
       "      <td>0.099902</td>\n",
       "      <td>0.122309</td>\n",
       "      <td>0.063786</td>\n",
       "      <td>0.128046</td>\n",
       "      <td>0.074774</td>\n",
       "      <td>0.116517</td>\n",
       "      <td>0.009376</td>\n",
       "      <td>0.100266</td>\n",
       "      <td>-0.001199</td>\n",
       "      <td>0.024383</td>\n",
       "      <td>-0.013545</td>\n",
       "      <td>0.049866</td>\n",
       "    </tr>\n",
       "    <tr>\n",
       "      <th>17666</th>\n",
       "      <td>ZYG11B</td>\n",
       "      <td>-0.061151</td>\n",
       "      <td>0.038188</td>\n",
       "      <td>-0.140665</td>\n",
       "      <td>-0.098903</td>\n",
       "      <td>-0.256051</td>\n",
       "      <td>-0.210502</td>\n",
       "      <td>-0.058604</td>\n",
       "      <td>-0.061026</td>\n",
       "      <td>-0.107890</td>\n",
       "      <td>-0.095707</td>\n",
       "      <td>-0.108723</td>\n",
       "      <td>0.004810</td>\n",
       "      <td>-0.117562</td>\n",
       "    </tr>\n",
       "    <tr>\n",
       "      <th>17667</th>\n",
       "      <td>ZYX</td>\n",
       "      <td>0.024890</td>\n",
       "      <td>0.027359</td>\n",
       "      <td>0.190340</td>\n",
       "      <td>0.126102</td>\n",
       "      <td>0.283143</td>\n",
       "      <td>0.151094</td>\n",
       "      <td>0.090377</td>\n",
       "      <td>0.114305</td>\n",
       "      <td>0.092989</td>\n",
       "      <td>0.106509</td>\n",
       "      <td>0.199740</td>\n",
       "      <td>0.101791</td>\n",
       "      <td>0.065041</td>\n",
       "    </tr>\n",
       "    <tr>\n",
       "      <th>17668</th>\n",
       "      <td>ZZEF1</td>\n",
       "      <td>-0.065269</td>\n",
       "      <td>-0.058442</td>\n",
       "      <td>-0.154439</td>\n",
       "      <td>-0.193253</td>\n",
       "      <td>-0.197498</td>\n",
       "      <td>-0.309350</td>\n",
       "      <td>0.009933</td>\n",
       "      <td>-0.066186</td>\n",
       "      <td>-0.133993</td>\n",
       "      <td>-0.006535</td>\n",
       "      <td>-0.258996</td>\n",
       "      <td>-0.020814</td>\n",
       "      <td>-0.132266</td>\n",
       "    </tr>\n",
       "    <tr>\n",
       "      <th>17669</th>\n",
       "      <td>ZZZ3</td>\n",
       "      <td>-0.116085</td>\n",
       "      <td>-0.056598</td>\n",
       "      <td>-0.431363</td>\n",
       "      <td>-0.445543</td>\n",
       "      <td>-0.327612</td>\n",
       "      <td>-0.334305</td>\n",
       "      <td>-0.346386</td>\n",
       "      <td>0.007321</td>\n",
       "      <td>-0.157967</td>\n",
       "      <td>-0.019805</td>\n",
       "      <td>-0.431966</td>\n",
       "      <td>-0.165207</td>\n",
       "      <td>-0.281664</td>\n",
       "    </tr>\n",
       "  </tbody>\n",
       "</table>\n",
       "<p>17670 rows × 14 columns</p>\n",
       "</div>"
      ],
      "text/plain": [
       "      Unnamed: 0  KARPAS299_HAEMATOPOIETIC_AND_LYMPHOID_TISSUE  \\\n",
       "0           A1BG                                      0.151919   \n",
       "1           A1CF                                      0.082257   \n",
       "2            A2M                                     -0.043931   \n",
       "3          A2ML1                                      0.110374   \n",
       "4        A3GALT2                                     -0.103935   \n",
       "...          ...                                           ...   \n",
       "17665     ZYG11A                                      0.065423   \n",
       "17666     ZYG11B                                     -0.061151   \n",
       "17667        ZYX                                      0.024890   \n",
       "17668      ZZEF1                                     -0.065269   \n",
       "17669       ZZZ3                                     -0.116085   \n",
       "\n",
       "       KIJK_HAEMATOPOIETIC_AND_LYMPHOID_TISSUE  \\\n",
       "0                                    -0.014550   \n",
       "1                                     0.037640   \n",
       "2                                    -0.027945   \n",
       "3                                     0.262660   \n",
       "4                                     0.060571   \n",
       "...                                        ...   \n",
       "17665                                 0.099902   \n",
       "17666                                 0.038188   \n",
       "17667                                 0.027359   \n",
       "17668                                -0.058442   \n",
       "17669                                -0.056598   \n",
       "\n",
       "       MOLM13_HAEMATOPOIETIC_AND_LYMPHOID_TISSUE  \\\n",
       "0                                       0.139325   \n",
       "1                                       0.117566   \n",
       "2                                      -0.019792   \n",
       "3                                       0.156492   \n",
       "4                                      -0.042927   \n",
       "...                                          ...   \n",
       "17665                                   0.122309   \n",
       "17666                                  -0.140665   \n",
       "17667                                   0.190340   \n",
       "17668                                  -0.154439   \n",
       "17669                                  -0.431363   \n",
       "\n",
       "       MV411_HAEMATOPOIETIC_AND_LYMPHOID_TISSUE  \\\n",
       "0                                     -0.011871   \n",
       "1                                      0.190795   \n",
       "2                                      0.005568   \n",
       "3                                      0.162100   \n",
       "4                                      0.083874   \n",
       "...                                         ...   \n",
       "17665                                  0.063786   \n",
       "17666                                 -0.098903   \n",
       "17667                                  0.126102   \n",
       "17668                                 -0.193253   \n",
       "17669                                 -0.445543   \n",
       "\n",
       "       NB4_HAEMATOPOIETIC_AND_LYMPHOID_TISSUE  \\\n",
       "0                                    0.057885   \n",
       "1                                   -0.154905   \n",
       "2                                   -0.151108   \n",
       "3                                    0.035391   \n",
       "4                                   -0.161642   \n",
       "...                                       ...   \n",
       "17665                                0.128046   \n",
       "17666                               -0.256051   \n",
       "17667                                0.283143   \n",
       "17668                               -0.197498   \n",
       "17669                               -0.327612   \n",
       "\n",
       "       NOMO1_HAEMATOPOIETIC_AND_LYMPHOID_TISSUE  \\\n",
       "0                                      0.092022   \n",
       "1                                      0.104811   \n",
       "2                                      0.073537   \n",
       "3                                      0.299699   \n",
       "4                                     -0.074327   \n",
       "...                                         ...   \n",
       "17665                                  0.074774   \n",
       "17666                                 -0.210502   \n",
       "17667                                  0.151094   \n",
       "17668                                 -0.309350   \n",
       "17669                                 -0.334305   \n",
       "\n",
       "       P31FUJ_HAEMATOPOIETIC_AND_LYMPHOID_TISSUE  \\\n",
       "0                                       0.021745   \n",
       "1                                       0.046745   \n",
       "2                                      -0.053020   \n",
       "3                                       0.066575   \n",
       "4                                       0.006640   \n",
       "...                                          ...   \n",
       "17665                                   0.116517   \n",
       "17666                                  -0.058604   \n",
       "17667                                   0.090377   \n",
       "17668                                   0.009933   \n",
       "17669                                  -0.346386   \n",
       "\n",
       "       PF382_HAEMATOPOIETIC_AND_LYMPHOID_TISSUE  \\\n",
       "0                                     -0.081341   \n",
       "1                                      0.120464   \n",
       "2                                      0.009304   \n",
       "3                                      0.190711   \n",
       "4                                      0.031336   \n",
       "...                                         ...   \n",
       "17665                                  0.009376   \n",
       "17666                                 -0.061026   \n",
       "17667                                  0.114305   \n",
       "17668                                 -0.066186   \n",
       "17669                                  0.007321   \n",
       "\n",
       "       SUPM2_HAEMATOPOIETIC_AND_LYMPHOID_TISSUE  \\\n",
       "0                                      0.087328   \n",
       "1                                      0.000441   \n",
       "2                                     -0.022455   \n",
       "3                                      0.128588   \n",
       "4                                     -0.045402   \n",
       "...                                         ...   \n",
       "17665                                  0.100266   \n",
       "17666                                 -0.107890   \n",
       "17667                                  0.092989   \n",
       "17668                                 -0.133993   \n",
       "17669                                 -0.157967   \n",
       "\n",
       "       SUPT1_HAEMATOPOIETIC_AND_LYMPHOID_TISSUE  \\\n",
       "0                                     -0.037541   \n",
       "1                                      0.151514   \n",
       "2                                     -0.031786   \n",
       "3                                      0.167483   \n",
       "4                                      0.022214   \n",
       "...                                         ...   \n",
       "17665                                 -0.001199   \n",
       "17666                                 -0.095707   \n",
       "17667                                  0.106509   \n",
       "17668                                 -0.006535   \n",
       "17669                                 -0.019805   \n",
       "\n",
       "       TF1_HAEMATOPOIETIC_AND_LYMPHOID_TISSUE  \\\n",
       "0                                    0.030342   \n",
       "1                                    0.047233   \n",
       "2                                   -0.157991   \n",
       "3                                    0.137583   \n",
       "4                                   -0.065800   \n",
       "...                                       ...   \n",
       "17665                                0.024383   \n",
       "17666                               -0.108723   \n",
       "17667                                0.199740   \n",
       "17668                               -0.258996   \n",
       "17669                               -0.431966   \n",
       "\n",
       "       THP1_HAEMATOPOIETIC_AND_LYMPHOID_TISSUE  \\\n",
       "0                                     0.058641   \n",
       "1                                     0.084236   \n",
       "2                                    -0.093803   \n",
       "3                                     0.191558   \n",
       "4                                    -0.016023   \n",
       "...                                        ...   \n",
       "17665                                -0.013545   \n",
       "17666                                 0.004810   \n",
       "17667                                 0.101791   \n",
       "17668                                -0.020814   \n",
       "17669                                -0.165207   \n",
       "\n",
       "       U937_HAEMATOPOIETIC_AND_LYMPHOID_TISSUE  \n",
       "0                                     0.061776  \n",
       "1                                     0.044977  \n",
       "2                                    -0.075126  \n",
       "3                                     0.147213  \n",
       "4                                    -0.097554  \n",
       "...                                        ...  \n",
       "17665                                 0.049866  \n",
       "17666                                -0.117562  \n",
       "17667                                 0.065041  \n",
       "17668                                -0.132266  \n",
       "17669                                -0.281664  \n",
       "\n",
       "[17670 rows x 14 columns]"
      ]
     },
     "metadata": {},
     "output_type": "display_data"
    }
   ],
   "source": [
    "import pandas as pd\n",
    "\n",
    "achilles = pd.read_table(\"/home/darragh/CRISPR_NHL_PRC2.txt\", sep = \",\")\n",
    "#achilles = pd.concat([achilles.iloc[:, [0]], achilles.filter(regex='HAEMATOPOIETIC_AND_LYMPHOID_TISSUE', axis=1)], axis=1)\n",
    "\n",
    "#achilles = achilles[[]]\n",
    "#display(achilles)\n",
    "\n",
    "# achilles.columns = ['gene', 'KARPAS299', 'KIJK', 'PF382', 'SUPM2', 'SUPT1' ]\n",
    "\n",
    "# achilles = achilles.loc[(achilles['gene'] == \"EZH2\") | (achilles['gene'] == \"EED\") | (achilles['gene'] == \"SUZ12\") |\n",
    "#                         (achilles['gene'] == \"EZH1\") | (achilles['gene'] == \"PHF1\") | (achilles['gene'] == \"MTF2\") |\n",
    "#                         (achilles['gene'] == \"PHF19\") | (achilles['gene'] == \"LCOR\") | (achilles['gene'] == \"LCORL\") |\n",
    "#                         (achilles['gene'] == \"AEBP2\") | (achilles['gene'] == \"JARID2\") , ]\n",
    "\n",
    "\n",
    "# achilles = pd.melt(achilles, id_vars=['gene'], var_name='sample', value_name='value')\n",
    "# achilles.to_csv(\"/home/darragh/achilles_lymphoma_cells_plot.txt\", sep=\"\\t\", index=False)\n",
    "# achilles.head(60)\n"
   ]
  },
  {
   "cell_type": "code",
   "execution_count": 8,
   "metadata": {
    "vscode": {
     "languageId": "r"
    }
   },
   "outputs": [
    {
     "name": "stderr",
     "output_type": "stream",
     "text": [
      "\u001b[1m\u001b[22mSaving 6.67 x 6.67 in image\n"
     ]
    },
    {
     "data": {
      "image/png": "[encoded data removed]",
      "text/plain": [
       "plot without title"
      ]
     },
     "metadata": {
      "image/png": {
       "height": 420,
       "width": 420
      }
     },
     "output_type": "display_data"
    }
   ],
   "source": [
    "library(ggplot2)\n",
    "\n",
    "\n",
    "file = read.table(\"/home/darragh/CRISPR_NHL_PRC2\", header=F)\n",
    "colnames(file) =c(\"gene\", \"chronos\")\n",
    "\n",
    "ggplot(file, aes(x=gene, y=chronos)) +\n",
    "geom_boxplot() +\n",
    "scale_y_reverse() +\n",
    "theme_classic() +\n",
    "ylab(\"DepMap Chronos\")\n",
    "ggsave(\"/home/darragh/CRISPR_NHL_PRC2.pdf\")"
   ]
  }
 ],
 "metadata": {
  "kernelspec": {
   "display_name": "R",
   "language": "R",
   "name": "ir"
  },
  "language_info": {
   "codemirror_mode": "r",
   "file_extension": ".r",
   "mimetype": "text/x-r-source",
   "name": "R",
   "pygments_lexer": "r",
   "version": "4.2.0"
  },
  "orig_nbformat": 4
 },
 "nbformat": 4,
 "nbformat_minor": 2
}
