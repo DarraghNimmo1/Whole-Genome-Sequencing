{
 "cells": [
  {
   "cell_type": "code",
   "execution_count": 2,
   "metadata": {
    "vscode": {
     "languageId": "r"
    }
   },
   "outputs": [],
   "source": [
    "import pandas as pd\n",
    "import pybedtools as pybed\n",
    "import numpy as np\n",
    "import os"
   ]
  },
  {
   "attachments": {},
   "cell_type": "markdown",
   "metadata": {},
   "source": [
    "# Final DriverPower which i want to run on the combined set of all regulatory elements"
   ]
  },
  {
   "cell_type": "code",
   "execution_count": 6,
   "metadata": {
    "vscode": {
     "languageId": "r"
    }
   },
   "outputs": [
    {
     "data": {
      "text/html": [
       "<div>\n",
       "<style scoped>\n",
       "    .dataframe tbody tr th:only-of-type {\n",
       "        vertical-align: middle;\n",
       "    }\n",
       "\n",
       "    .dataframe tbody tr th {\n",
       "        vertical-align: top;\n",
       "    }\n",
       "\n",
       "    .dataframe thead th {\n",
       "        text-align: right;\n",
       "    }\n",
       "</style>\n",
       "<table border=\"1\" class=\"dataframe\">\n",
       "  <thead>\n",
       "    <tr style=\"text-align: right;\">\n",
       "      <th></th>\n",
       "      <th>chr</th>\n",
       "      <th>start</th>\n",
       "      <th>end</th>\n",
       "      <th>id</th>\n",
       "    </tr>\n",
       "  </thead>\n",
       "  <tbody>\n",
       "    <tr>\n",
       "      <th>0</th>\n",
       "      <td>chr1</td>\n",
       "      <td>13491</td>\n",
       "      <td>14174</td>\n",
       "      <td>chr1_13491_14174</td>\n",
       "    </tr>\n",
       "    <tr>\n",
       "      <th>1</th>\n",
       "      <td>chr1</td>\n",
       "      <td>27796</td>\n",
       "      <td>30189</td>\n",
       "      <td>chr1_27796_30189</td>\n",
       "    </tr>\n",
       "    <tr>\n",
       "      <th>2</th>\n",
       "      <td>chr1</td>\n",
       "      <td>95804</td>\n",
       "      <td>97136</td>\n",
       "      <td>chr1_95804_97136</td>\n",
       "    </tr>\n",
       "    <tr>\n",
       "      <th>3</th>\n",
       "      <td>chr1</td>\n",
       "      <td>142951</td>\n",
       "      <td>144738</td>\n",
       "      <td>chr1_142951_144738</td>\n",
       "    </tr>\n",
       "    <tr>\n",
       "      <th>4</th>\n",
       "      <td>chr1</td>\n",
       "      <td>234290</td>\n",
       "      <td>235729</td>\n",
       "      <td>chr1_234290_235729</td>\n",
       "    </tr>\n",
       "    <tr>\n",
       "      <th>...</th>\n",
       "      <td>...</td>\n",
       "      <td>...</td>\n",
       "      <td>...</td>\n",
       "      <td>...</td>\n",
       "    </tr>\n",
       "    <tr>\n",
       "      <th>111103</th>\n",
       "      <td>chrY</td>\n",
       "      <td>59099066</td>\n",
       "      <td>59101436</td>\n",
       "      <td>chrY_59099066_59101436</td>\n",
       "    </tr>\n",
       "    <tr>\n",
       "      <th>111104</th>\n",
       "      <td>chrY</td>\n",
       "      <td>59213304</td>\n",
       "      <td>59214942</td>\n",
       "      <td>chrY_59213304_59214942</td>\n",
       "    </tr>\n",
       "    <tr>\n",
       "      <th>111105</th>\n",
       "      <td>chrY</td>\n",
       "      <td>59220433</td>\n",
       "      <td>59221668</td>\n",
       "      <td>chrY_59220433_59221668</td>\n",
       "    </tr>\n",
       "    <tr>\n",
       "      <th>111106</th>\n",
       "      <td>chrY</td>\n",
       "      <td>59348730</td>\n",
       "      <td>59349716</td>\n",
       "      <td>chrY_59348730_59349716</td>\n",
       "    </tr>\n",
       "    <tr>\n",
       "      <th>111107</th>\n",
       "      <td>chrY</td>\n",
       "      <td>59362785</td>\n",
       "      <td>59363497</td>\n",
       "      <td>chrY_59362785_59363497</td>\n",
       "    </tr>\n",
       "  </tbody>\n",
       "</table>\n",
       "<p>111108 rows × 4 columns</p>\n",
       "</div>"
      ],
      "text/plain": [
       "         chr     start       end                      id\n",
       "0       chr1     13491     14174        chr1_13491_14174\n",
       "1       chr1     27796     30189        chr1_27796_30189\n",
       "2       chr1     95804     97136        chr1_95804_97136\n",
       "3       chr1    142951    144738      chr1_142951_144738\n",
       "4       chr1    234290    235729      chr1_234290_235729\n",
       "...      ...       ...       ...                     ...\n",
       "111103  chrY  59099066  59101436  chrY_59099066_59101436\n",
       "111104  chrY  59213304  59214942  chrY_59213304_59214942\n",
       "111105  chrY  59220433  59221668  chrY_59220433_59221668\n",
       "111106  chrY  59348730  59349716  chrY_59348730_59349716\n",
       "111107  chrY  59362785  59363497  chrY_59362785_59363497\n",
       "\n",
       "[111108 rows x 4 columns]"
      ]
     },
     "metadata": {},
     "output_type": "display_data"
    }
   ],
   "source": [
    "HMEC = pybed.BedTool.from_dataframe(pd.read_table(\"/home/darragh/New/Regulatory_elements/HMEC_reg_elements.txt\", sep=\"\\t\",header=None))\n",
    "MCF10A = pybed.BedTool.from_dataframe(pd.read_table(\"/home/darragh/New/Regulatory_elements/MCF10A_reg_elements.txt\", sep=\"\\t\",header=None))\n",
    "MCF7 = pybed.BedTool.from_dataframe(pd.read_table(\"/home/darragh/New/Regulatory_elements/MCF7_reg_elements.txt\", sep=\"\\t\",header=None))\n",
    "T47D = pybed.BedTool.from_dataframe(pd.read_table(\"/home/darragh/New/Regulatory_elements/T47D_reg_elements.txt\", sep=\"\\t\",header=None))\n",
    "MDAMB231 = pybed.BedTool.from_dataframe(pd.read_table(\"/home/darragh/New/Regulatory_elements/MDAMB231_reg_elements.txt\", sep=\"\\t\",header=None))\n",
    "MDAMB436 = pybed.BedTool.from_dataframe(pd.read_table(\"/home/darragh/New/Regulatory_elements/MDAMB436_reg_elements.txt\", sep=\"\\t\",header=None))\n",
    "MDAMB468 = pybed.BedTool.from_dataframe(pd.read_table(\"/home/darragh/New/Regulatory_elements/MDAMB468_reg_elements.txt\", sep=\"\\t\",header=None))\n",
    "BT549 = pybed.BedTool.from_dataframe(pd.read_table(\"/home/darragh/New/Regulatory_elements/BT549_reg_elements.txt\", sep=\"\\t\",header=None))\n",
    "\n",
    "All = HMEC.cat(MCF10A, postmerge=False)\n",
    "All = All.cat(MCF7, postmerge=False)\n",
    "All = All.cat(T47D, postmerge=False)\n",
    "All = All.cat(MDAMB231, postmerge=False)\n",
    "All = All.cat(MDAMB436, postmerge=False)\n",
    "All = All.cat(MDAMB468, postmerge=False)\n",
    "All = All.cat(BT549, postmerge=False)\n",
    "\n",
    "All = All.sort()\n",
    "All = All.merge()\n",
    "\n",
    "All = pd.read_table(All.fn, header=None)\n",
    "All.columns = ['chr', 'start', 'end']\n",
    "All['id'] = All['chr'] + '_' + All['start'].astype(str) + '_' + All['end'].astype(str)\n",
    "All.to_csv(\"/home/darragh/New/DriverPower_Final/inputs/All_regs_2.txt\", sep=\"\\t\", header=False, index=False)\n",
    "\n",
    "display(All)\n"
   ]
  },
  {
   "cell_type": "code",
   "execution_count": null,
   "metadata": {
    "vscode": {
     "languageId": "r"
    }
   },
   "outputs": [],
   "source": []
  },
  {
   "attachments": {},
   "cell_type": "markdown",
   "metadata": {},
   "source": [
    "# All test"
   ]
  },
  {
   "cell_type": "code",
   "execution_count": 16,
   "metadata": {
    "vscode": {
     "languageId": "r"
    }
   },
   "outputs": [
    {
     "name": "stdout",
     "output_type": "stream",
     "text": [
      "/home/darragh/New/DriverPower/CADD/ICGC/Primary\n"
     ]
    }
   ],
   "source": [
    "generate_cg.sh /index/hg19/hg19.fa /home/darragh/New/DriverPower_Final/inputs/All_regs_2.txt /home/darragh/New/DriverPower/callable.bed.gz ./tmp/example.cg ./tmp/example.totcg"
   ]
  },
  {
   "cell_type": "code",
   "execution_count": null,
   "metadata": {
    "vscode": {
     "languageId": "r"
    }
   },
   "outputs": [],
   "source": [
    "bws2cv.sh /home/darragh/New/GLM_method/input_features/Primary/bigwigs /home/darragh/New/DriverPower_Final/inputs/All_regs_2.txt All_bw_features.tsv 30"
   ]
  },
  {
   "cell_type": "code",
   "execution_count": null,
   "metadata": {
    "vscode": {
     "languageId": "r"
    }
   },
   "outputs": [],
   "source": [
    "beds2cv.sh /home/darragh/New/GLM_method/input_features/Primary/peaks /home/darragh/New/DriverPower_Final/inputs/All_regs_2.txt ./tmp/example.totcg All_bed_features.tsv"
   ]
  },
  {
   "cell_type": "code",
   "execution_count": null,
   "metadata": {
    "vscode": {
     "languageId": "r"
    }
   },
   "outputs": [],
   "source": [
    "generate_nuc_covar.py ./tmp/example.cg All_nuc_features.tsv"
   ]
  },
  {
   "cell_type": "code",
   "execution_count": null,
   "metadata": {
    "vscode": {
     "languageId": "r"
    }
   },
   "outputs": [],
   "source": [
    "mkdir output"
   ]
  },
  {
   "cell_type": "code",
   "execution_count": null,
   "metadata": {
    "vscode": {
     "languageId": "r"
    }
   },
   "outputs": [],
   "source": [
    "mv *.tsv output/"
   ]
  },
  {
   "cell_type": "code",
   "execution_count": null,
   "metadata": {
    "vscode": {
     "languageId": "r"
    }
   },
   "outputs": [],
   "source": [
    "combine_cv.sh ./output/ All_features.tsv"
   ]
  },
  {
   "cell_type": "code",
   "execution_count": null,
   "metadata": {
    "vscode": {
     "languageId": "r"
    }
   },
   "outputs": [],
   "source": []
  },
  {
   "cell_type": "code",
   "execution_count": null,
   "metadata": {
    "vscode": {
     "languageId": "r"
    }
   },
   "outputs": [],
   "source": [
    "python ./prepare.py /home/darragh/New/Active_Driver_Final/inputs/Hartwig_mutation.txt /home/darragh/New/DriverPower_Final/inputs/All_regs_2.txt ~/New/DriverPower/callable.bed.gz test_y.tsv"
   ]
  },
  {
   "attachments": {},
   "cell_type": "markdown",
   "metadata": {},
   "source": [
    "# All training"
   ]
  },
  {
   "cell_type": "code",
   "execution_count": null,
   "metadata": {
    "vscode": {
     "languageId": "r"
    }
   },
   "outputs": [],
   "source": [
    "\n",
    "generate_cg.sh /index/hg19/hg19.fa ~/New/DriverPower/training_elements_All.bed /home/darragh/New/DriverPower/callable.bed.gz ./tmp/example.cg ./tmp/example.totcg"
   ]
  },
  {
   "cell_type": "code",
   "execution_count": null,
   "metadata": {
    "vscode": {
     "languageId": "r"
    }
   },
   "outputs": [],
   "source": [
    "bws2cv.sh /home/darragh/New/GLM_method/input_features/Primary/bigwigs ~/New/DriverPower/training_elements_All.bed All_training_bw_features.tsv 30"
   ]
  },
  {
   "cell_type": "code",
   "execution_count": null,
   "metadata": {
    "vscode": {
     "languageId": "r"
    }
   },
   "outputs": [],
   "source": [
    "beds2cv.sh /home/darragh/New/GLM_method/input_features/Primary/peaks ~/New/DriverPower/training_elements_All.bed ./tmp/example.totcg All_training_bed_features.tsv"
   ]
  },
  {
   "cell_type": "code",
   "execution_count": null,
   "metadata": {
    "vscode": {
     "languageId": "r"
    }
   },
   "outputs": [],
   "source": [
    "generate_nuc_covar.py ./tmp/example.cg All_training_nuc_features.tsv"
   ]
  },
  {
   "cell_type": "code",
   "execution_count": null,
   "metadata": {
    "vscode": {
     "languageId": "r"
    }
   },
   "outputs": [],
   "source": [
    "mkdir output"
   ]
  },
  {
   "cell_type": "code",
   "execution_count": null,
   "metadata": {
    "vscode": {
     "languageId": "r"
    }
   },
   "outputs": [],
   "source": [
    "mv *.tsv output/"
   ]
  },
  {
   "cell_type": "code",
   "execution_count": null,
   "metadata": {
    "vscode": {
     "languageId": "r"
    }
   },
   "outputs": [],
   "source": [
    "combine_cv.sh ./output/ All_training_features.tsv"
   ]
  },
  {
   "cell_type": "code",
   "execution_count": null,
   "metadata": {
    "vscode": {
     "languageId": "r"
    }
   },
   "outputs": [],
   "source": [
    "combine_cv.sh ./output/ TN_training_features.tsv"
   ]
  },
  {
   "cell_type": "code",
   "execution_count": 17,
   "metadata": {
    "vscode": {
     "languageId": "r"
    }
   },
   "outputs": [
    {
     "name": "stdout",
     "output_type": "stream",
     "text": [
      "--2023-04-06 10:33:45--  https://raw.githubusercontent.com/smshuai/DriverPower/master/script/prepare.py\n",
      "Resolving raw.githubusercontent.com (raw.githubusercontent.com)... 185.199.109.133, 185.199.108.133, 185.199.111.133, ...\n",
      "Connecting to raw.githubusercontent.com (raw.githubusercontent.com)|185.199.109.133|:443... connected.\n",
      "HTTP request sent, awaiting response... 200 OK\n",
      "Length: 2039 (2.0K) [text/plain]\n",
      "Saving to: ‘prepare.py’\n",
      "\n",
      "prepare.py          100%[===================>]   1.99K  --.-KB/s    in 0s      \n",
      "\n",
      "2023-04-06 10:33:45 (34.4 MB/s) - ‘prepare.py’ saved [2039/2039]\n",
      "\n"
     ]
    }
   ],
   "source": [
    "!wget https://raw.githubusercontent.com/smshuai/DriverPower/master/script/prepare.py"
   ]
  },
  {
   "cell_type": "code",
   "execution_count": null,
   "metadata": {
    "vscode": {
     "languageId": "r"
    }
   },
   "outputs": [],
   "source": [
    "python ./prepare.py /home/darragh/New/Active_Driver_Final/inputs/Hartwig_mutation.txt ~/New/DriverPower/training_elements_All.bed ~/New/DriverPower/callable.bed.gz train_y.tsv"
   ]
  },
  {
   "cell_type": "code",
   "execution_count": 20,
   "metadata": {
    "vscode": {
     "languageId": "r"
    }
   },
   "outputs": [],
   "source": [
    "driverpower model --feature training/All_training_features.tsv --response training/train_y.tsv --method GBM --name Hartwig_final --modelDir ./output"
   ]
  },
  {
   "cell_type": "code",
   "execution_count": null,
   "metadata": {
    "vscode": {
     "languageId": "r"
    }
   },
   "outputs": [],
   "source": [
    "driverpower infer --feature All_features.tsv --response test_y.tsv --model output/Hartwig_final.GBM.model.pkl --name 'DriverPower_burden' --outDir ./output/"
   ]
  },
  {
   "cell_type": "code",
   "execution_count": null,
   "metadata": {
    "vscode": {
     "languageId": "r"
    }
   },
   "outputs": [],
   "source": [
    "!wget https://raw.githubusercontent.com/smshuai/DriverPower/master/script/prepare.py"
   ]
  },
  {
   "cell_type": "code",
   "execution_count": null,
   "metadata": {
    "vscode": {
     "languageId": "r"
    }
   },
   "outputs": [],
   "source": [
    "python ./prepare.py /home/darragh/New/Active_Driver_Final/inputs/Hartwig_mutation.txt /home/darragh/New/DriverPower_Final/inputs/All_regs_2.txt ~/New/DriverPower/callable.bed.gz test_y.tsv\n",
    "python ./prepare.py /home/darragh/New/Active_Driver_Final/inputs/Hartwig_mutation.txt /home/darragh/New/DriverPower/training_elements_All.bed ~/New/DriverPower/callable.bed.gz train_y.tsv\n",
    "\n",
    "driverpower model --feature /home/darragh/New/DriverPower_Final/training/All_training_features.tsv --response train_y.tsv --method GBM --name ICGC_final --modelDir ./output\n",
    "driverpower infer --feature /home/darragh/New/DriverPower_Final/All_features.tsv --response test_y.tsv --model output/ICGC_final.GBM.model.pkl --name 'DriverPower_burden' --outDir ./output/"
   ]
  },
  {
   "cell_type": "code",
   "execution_count": null,
   "metadata": {
    "vscode": {
     "languageId": "r"
    }
   },
   "outputs": [],
   "source": [
    "#TFs\n",
    "#Hartwig\n",
    "\n",
    "#Test\n",
    "generate_cg.sh /index/hg19/hg19.fa /home/darragh/New/DriverPower_Final/TFs/positively_selected_TFs.tsv /home/darragh/New/DriverPower/callable.bed.gz ./tmp/example.cg ./tmp/example.totcg\n",
    "\n",
    "bws2cv.sh /home/darragh/New/GLM_method/input_features/Primary/bigwigs /home/darragh/New/DriverPower_Final/TFs/positively_selected_TFs.tsv All_bw_features.tsv 30\n",
    "\n",
    "beds2cv.sh /home/darragh/New/GLM_method/input_features/Primary/peaks /home/darragh/New/DriverPower_Final/TFs/positively_selected_TFs.tsv ./tmp/example.totcg All_bed_features.tsv\n",
    "\n",
    "generate_nuc_covar.py ./tmp/example.cg All_nuc_features.tsv\n",
    "\n",
    "mv *.tsv output/\n",
    "\n",
    "combine_cv.sh ./output/ All_features.tsv\n",
    "\n",
    "\n",
    "#Training\n",
    "generate_cg.sh /index/hg19/hg19.fa /home/darragh/New/DriverPower/training_elements_TFs.bed /home/darragh/New/DriverPower/callable.bed.gz ./tmp/example.cg ./tmp/example.\n",
    "\n",
    "bws2cv.sh /home/darragh/New/GLM_method/input_features/Primary/bigwigs /home/darragh/New/DriverPower/training_elements_TFs.bed All_bw_features.tsv 30\n",
    "\n",
    "beds2cv.sh /home/darragh/New/GLM_method/input_features/Primary/peaks /home/darragh/New/DriverPower/training_elements_TFs.bed ./tmp/example.totcg All_bed_features.tsv\n",
    "\n",
    "generate_nuc_covar.py ./tmp/example.cg All_nuc_features.tsv\n",
    "\n",
    "combine_cv.sh ./output/ All_training_features.tsv\n",
    "\n",
    "\n",
    "python ./prepare.py /home/darragh/New/Active_Driver_Final/inputs/Hartwig_mutation.txt /home/darragh/New/DriverPower_Final/TFs/positively_selected_TFs.tsv ~/New/DriverPower/callable.bed.gz test_y.tsv\n",
    "python ./prepare.py /home/darragh/New/Active_Driver_Final/inputs/Hartwig_mutation.txt /home/darragh/New/DriverPower/training_elements_TFs.bed ~/New/DriverPower/callable.bed.gz train_y.tsv\n",
    "\n",
    "driverpower model --feature /home/darragh/New/DriverPower_Final/TFs/All_training_features.tsv --response train_y.tsv --method GBM --name Hartwig_TFs_final --modelDir ./output\n",
    "driverpower infer --feature /home/darragh/New/DriverPower_Final/TFs/All_features.tsv --response test_y.tsv --model output/Hartwig_TFs_final.GBM.model.pkl --name 'DriverPower_burden' --outDir ./output/"
   ]
  },
  {
   "cell_type": "markdown",
   "metadata": {},
   "source": [
    "# Q-Q plot"
   ]
  },
  {
   "cell_type": "code",
   "execution_count": null,
   "metadata": {
    "vscode": {
     "languageId": "r"
    }
   },
   "outputs": [],
   "source": []
  }
 ],
 "metadata": {
  "kernelspec": {
   "display_name": "R",
   "language": "R",
   "name": "ir"
  },
  "language_info": {
   "codemirror_mode": "r",
   "file_extension": ".r",
   "mimetype": "text/x-r-source",
   "name": "R",
   "pygments_lexer": "r",
   "version": "4.2.0"
  },
  "orig_nbformat": 4
 },
 "nbformat": 4,
 "nbformat_minor": 2
}
